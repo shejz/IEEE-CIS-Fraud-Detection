{
  "nbformat": 4,
  "nbformat_minor": 0,
  "metadata": {
    "colab": {
      "name": "Copy of  Model.ipynb",
      "provenance": [],
      "collapsed_sections": [],
      "machine_shape": "hm"
    },
    "kernelspec": {
      "name": "python3",
      "display_name": "Python 3"
    },
    "accelerator": "GPU"
  },
  "cells": [
    {
      "cell_type": "code",
      "metadata": {
        "id": "hePAVnT3TBAz",
        "colab_type": "code",
        "colab": {}
      },
      "source": [
        "import numpy as np\n",
        "import pandas as pd\n",
        "import seaborn as sns\n",
        "import matplotlib.pyplot as plt\n",
        "import datetime\n",
        "import gc\n",
        "import hashlib\n",
        "\n",
        "from sklearn import preprocessing\n",
        "from sklearn.preprocessing import LabelEncoder\n",
        "from sklearn.model_selection import GridSearchCV, StratifiedKFold, TimeSeriesSplit, KFold, GroupKFold\n",
        "from sklearn.metrics import roc_auc_score\n",
        "\n",
        "import catboost as cb\n",
        "import lightgbm as lgb\n",
        "import xgboost as xgb\n",
        "\n",
        "import warnings\n",
        "warnings.filterwarnings('ignore')"
      ],
      "execution_count": 0,
      "outputs": []
    },
    {
      "cell_type": "code",
      "metadata": {
        "id": "99dYi0tf8xoj",
        "colab_type": "code",
        "colab": {}
      },
      "source": [
        "# Process DeviceInfo, id_30-31 and generate a feature 'has identity'\n",
        "def id_split(dataframe):\n",
        "  dataframe['device_name'] = dataframe['DeviceInfo'].str.split('/', expand=True)[0]\n",
        "  dataframe['device_version'] = dataframe['DeviceInfo'].str.split('/', expand=True)[1]\n",
        "  dataframe['OS_id_30'] = dataframe['id_30'].str.split(' ', expand=True)[0]\n",
        "  dataframe['browser_id_31'] = dataframe['id_31'].str.split(' ', expand=True)[0]\n",
        "  dataframe.loc[dataframe['device_name'].str.contains('SM', na=False), 'device_name'] = 'Samsung'\n",
        "  dataframe.loc[dataframe['device_name'].str.contains('SAMSUNG', na=False), 'device_name'] = 'Samsung'\n",
        "  dataframe.loc[dataframe['device_name'].str.contains('GT-', na=False), 'device_name'] = 'Samsung'\n",
        "  dataframe.loc[dataframe['device_name'].str.contains('Moto G', na=False), 'device_name'] = 'Motorola'\n",
        "  dataframe.loc[dataframe['device_name'].str.contains('Moto', na=False), 'device_name'] = 'Motorola'\n",
        "  dataframe.loc[dataframe['device_name'].str.contains('moto', na=False), 'device_name'] = 'Motorola'\n",
        "  dataframe.loc[dataframe['device_name'].str.contains('LG-', na=False), 'device_name'] = 'LG'\n",
        "  dataframe.loc[dataframe['device_name'].str.contains('rv:', na=False), 'device_name'] = 'RV'\n",
        "  dataframe.loc[dataframe['device_name'].str.contains('HUAWEI', na=False), 'device_name'] = 'Huawei'\n",
        "  dataframe.loc[dataframe['device_name'].str.contains('ALE-', na=False), 'device_name'] = 'Huawei'\n",
        "  dataframe.loc[dataframe['device_name'].str.contains('-L', na=False), 'device_name'] = 'Huawei'\n",
        "  dataframe.loc[dataframe['device_name'].str.contains('Blade', na=False), 'device_name'] = 'ZTE'\n",
        "  dataframe.loc[dataframe['device_name'].str.contains('BLADE', na=False), 'device_name'] = 'ZTE'\n",
        "  dataframe.loc[dataframe['device_name'].str.contains('Linux', na=False), 'device_name'] = 'Linux'\n",
        "  dataframe.loc[dataframe['device_name'].str.contains('XT', na=False), 'device_name'] = 'Sony'\n",
        "  dataframe.loc[dataframe['device_name'].str.contains('HTC', na=False), 'device_name'] = 'HTC'\n",
        "  dataframe.loc[dataframe['device_name'].str.contains('ASUS', na=False), 'device_name'] = 'Asus'\n",
        "    \n",
        "# Classes that are too sparse are placed in other classes\n",
        "  dataframe.loc[dataframe.device_name.isin(dataframe.device_name.value_counts()[dataframe.device_name.value_counts() < 100].index), 'device_name'] = \"Others\"\n",
        "  dataframe['had_id'] = 1\n",
        "  gc.collect()\n",
        "  return dataframe"
      ],
      "execution_count": 0,
      "outputs": []
    },
    {
      "cell_type": "code",
      "metadata": {
        "id": "2O8TbADaQT3E",
        "colab_type": "code",
        "colab": {}
      },
      "source": [
        "folder_path = '/content/drive/My Drive/IEEE-CIS Fraud Detection/'\n",
        "train_identity = pd.read_csv(f'{folder_path}train_identity.csv')\n",
        "train_transaction = pd.read_csv(f'{folder_path}train_transaction.csv')\n",
        "test_identity = pd.read_csv(f'{folder_path}test_identity.csv')\n",
        "test_transaction = pd.read_csv(f'{folder_path}test_transaction.csv')"
      ],
      "execution_count": 0,
      "outputs": []
    },
    {
      "cell_type": "code",
      "metadata": {
        "id": "09ujBqO-9k3m",
        "colab_type": "code",
        "colab": {}
      },
      "source": [
        "train_identity = id_split(train_identity)\n",
        "test_identity = id_split(test_identity)"
      ],
      "execution_count": 0,
      "outputs": []
    },
    {
      "cell_type": "code",
      "metadata": {
        "id": "eVbLDCxw9smX",
        "colab_type": "code",
        "outputId": "e2ec7e81-ec39-473e-e19b-f2796bd103fa",
        "colab": {
          "base_uri": "https://localhost:8080/",
          "height": 51
        }
      },
      "source": [
        "print(train_identity.shape)\n",
        "print(test_identity.shape)"
      ],
      "execution_count": 0,
      "outputs": [
        {
          "output_type": "stream",
          "text": [
            "(144233, 46)\n",
            "(141907, 46)\n"
          ],
          "name": "stdout"
        }
      ]
    },
    {
      "cell_type": "code",
      "metadata": {
        "id": "3ZB7IzrIAJ9M",
        "colab_type": "code",
        "outputId": "5ff80129-3616-4797-fff2-665df32f261d",
        "colab": {
          "base_uri": "https://localhost:8080/",
          "height": 1000
        }
      },
      "source": [
        "# New fields have been added\n",
        "print(train_identity['device_name'].value_counts())\n",
        "print(train_identity['device_version'].value_counts())\n",
        "print(train_identity['OS_id_30'].value_counts())\n",
        "print(train_identity['browser_id_31'].value_counts())"
      ],
      "execution_count": 0,
      "outputs": [
        {
          "output_type": "stream",
          "text": [
            "Windows            47722\n",
            "iOS Device         19782\n",
            "MacOS              12573\n",
            "Samsung            12092\n",
            "Trident             7440\n",
            "Others              4978\n",
            "RV                  4385\n",
            "Motorola            2935\n",
            "Huawei              2377\n",
            "LG                  2331\n",
            "Sony                 575\n",
            "ZTE                  518\n",
            "HTC                  406\n",
            "hi6210sft Build      190\n",
            "F3213 Build          125\n",
            "Linux                121\n",
            "F5121 Build          116\n",
            "Name: device_name, dtype: int64\n",
            "7.0                7440\n",
            "NRD90M             5908\n",
            "MMB29K             1874\n",
            "MRA58K             1446\n",
            "MMB29M             1342\n",
            "                   ... \n",
            "HUAWEILUA-U23         1\n",
            "OPN27.76-12-22        1\n",
            "H81021z               1\n",
            "OPR4.170623.006       1\n",
            "2.12.111.1            1\n",
            "Name: device_version, Length: 293, dtype: int64\n",
            "Windows    36739\n",
            "iOS        19782\n",
            "Mac        13580\n",
            "Android     6303\n",
            "Linux       1136\n",
            "other         15\n",
            "func          10\n",
            "Name: OS_id_30, dtype: int64\n",
            "chrome               76059\n",
            "mobile               28379\n",
            "ie                    9733\n",
            "safari                8913\n",
            "firefox               7012\n",
            "edge                  6401\n",
            "samsung               2044\n",
            "opera                  449\n",
            "android                386\n",
            "other                  312\n",
            "Samsung/SM-G532M       150\n",
            "google                 146\n",
            "Generic/Android        138\n",
            "Samsung/SM-G531H        52\n",
            "Microsoft/Windows       25\n",
            "silk                    19\n",
            "ZTE/Blade                9\n",
            "line                     6\n",
            "maxthon                  6\n",
            "comodo                   6\n",
            "icedragon                5\n",
            "aol                      5\n",
            "Mozilla/Firefox          5\n",
            "Lanix/Ilium              3\n",
            "waterfox                 2\n",
            "puffin                   2\n",
            "facebook                 2\n",
            "palemoon                 2\n",
            "Samsung/SCH              1\n",
            "BLU/Dash                 1\n",
            "M4Tel/M4                 1\n",
            "seamonkey                1\n",
            "Nokia/Lumia              1\n",
            "Cherry                   1\n",
            "Inco/Minion              1\n",
            "iron                     1\n",
            "chromium                 1\n",
            "LG/K-200                 1\n",
            "cyberfox                 1\n",
            "Name: browser_id_31, dtype: int64\n"
          ],
          "name": "stdout"
        }
      ]
    },
    {
      "cell_type": "code",
      "metadata": {
        "id": "AIBhQL0p-Y44",
        "colab_type": "code",
        "colab": {}
      },
      "source": [
        "# Let's combine the data and work with the whole dataset\n",
        "train = pd.merge(train_transaction, train_identity, on = 'TransactionID', how = 'left')\n",
        "test = pd.merge(test_transaction, test_identity, on = 'TransactionID', how = 'left')"
      ],
      "execution_count": 0,
      "outputs": []
    },
    {
      "cell_type": "code",
      "metadata": {
        "id": "b6GXjCyMTMoY",
        "colab_type": "code",
        "colab": {}
      },
      "source": [
        "del train_transaction, test_transaction, train_identity, test_identity"
      ],
      "execution_count": 0,
      "outputs": []
    },
    {
      "cell_type": "code",
      "metadata": {
        "id": "mSLRa7OBJpdP",
        "colab_type": "code",
        "colab": {}
      },
      "source": [
        "train_len = len(train)"
      ],
      "execution_count": 0,
      "outputs": []
    },
    {
      "cell_type": "markdown",
      "metadata": {
        "id": "Y2ppvswi-y1L",
        "colab_type": "text"
      },
      "source": [
        "## Feature Engineering"
      ]
    },
    {
      "cell_type": "markdown",
      "metadata": {
        "id": "ik937gK0BFgu",
        "colab_type": "text"
      },
      "source": [
        "- DT_D (Days)\n",
        "- DT_W (Weeks)\n",
        "- DT_M (Months)"
      ]
    },
    {
      "cell_type": "code",
      "metadata": {
        "id": "DwEMZcN0-5Jr",
        "colab_type": "code",
        "colab": {}
      },
      "source": [
        "START_DATE = '2017-11-30'\n",
        "startdate = datetime.datetime.strptime(START_DATE, '%Y-%m-%d')\n",
        "train['TransactionDT'] = train['TransactionDT'].apply(lambda x: (startdate + datetime.timedelta(seconds = x)))\n",
        "test['TransactionDT'] = test['TransactionDT'].apply(lambda x: (startdate + datetime.timedelta(seconds = x)))\n",
        "for df in [train,test]:\n",
        "    df['DT_D'] = ((df['TransactionDT'].dt.year-2017)*365 + df['TransactionDT'].dt.dayofyear).astype(np.int16)\n",
        "    df['DT_W'] = (df['TransactionDT'].dt.year-2017)*52 + df['TransactionDT'].dt.weekofyear\n",
        "    df['DT_M'] = (df['TransactionDT'].dt.year-2017)*12 + df['TransactionDT'].dt.month"
      ],
      "execution_count": 0,
      "outputs": []
    },
    {
      "cell_type": "code",
      "metadata": {
        "id": "EK43eYjf_fwA",
        "colab_type": "code",
        "outputId": "bd7a35b4-1d4b-4b19-a8a1-de716dc8c1d1",
        "colab": {
          "base_uri": "https://localhost:8080/",
          "height": 119
        }
      },
      "source": [
        "train.ProductCD.value_counts()"
      ],
      "execution_count": 0,
      "outputs": [
        {
          "output_type": "execute_result",
          "data": {
            "text/plain": [
              "W    439670\n",
              "C     68519\n",
              "R     37699\n",
              "H     33024\n",
              "S     11628\n",
              "Name: ProductCD, dtype: int64"
            ]
          },
          "metadata": {
            "tags": []
          },
          "execution_count": 11
        }
      ]
    },
    {
      "cell_type": "markdown",
      "metadata": {
        "id": "WexANhdz_yHx",
        "colab_type": "text"
      },
      "source": [
        "Recognizing that the various categories of ProductCD behave differently in terms of fraud and time series, we split their count_encoding feature into five indicators"
      ]
    },
    {
      "cell_type": "code",
      "metadata": {
        "id": "YCiyk9rK_ivz",
        "colab_type": "code",
        "colab": {}
      },
      "source": [
        "# W\n",
        "te = train.groupby(['ProductCD','DT_D'])['isFraud'].agg(['count','mean'])\n",
        "te.reset_index(inplace=True)\n",
        "train['ProductCD_W_Day'] = pd.merge(train[['ProductCD','DT_D']],te[['ProductCD','DT_D','count']],on = ['ProductCD','DT_D'],how='left')['count']\n",
        "te = test.groupby(['ProductCD','DT_D'])['TransactionAmt'].agg(['count','mean'])\n",
        "te.reset_index(inplace=True)\n",
        "test['ProductCD_W_Day'] = pd.merge(test[['ProductCD','DT_D']],te[['ProductCD','DT_D','count']],on = ['ProductCD','DT_D'],how='left')['count']\n",
        "train.loc[train.ProductCD != 'W','ProductCD_W_Day'] = -999\n",
        "test.loc[test.ProductCD != 'W','ProductCD_W_Day'] = -999\n",
        "\n",
        "# C\n",
        "te = train.groupby(['ProductCD','DT_D'])['isFraud'].agg(['count','mean'])\n",
        "te.reset_index(inplace=True)\n",
        "train['ProductCD_C_Day'] = pd.merge(train[['ProductCD','DT_D']],te[['ProductCD','DT_D','count']],on = ['ProductCD','DT_D'],how='left')['count']\n",
        "te = test.groupby(['ProductCD','DT_D'])['TransactionAmt'].agg(['count','mean'])\n",
        "te.reset_index(inplace=True)\n",
        "test['ProductCD_C_Day'] = pd.merge(test[['ProductCD','DT_D']],te[['ProductCD','DT_D','count']],on = ['ProductCD','DT_D'],how='left')['count']\n",
        "train.loc[train.ProductCD != 'C','ProductCD_C_Day'] = 999999\n",
        "test.loc[test.ProductCD != 'C','ProductCD_C_Day'] = 999999\n",
        "\n",
        "# R\n",
        "te = train.groupby(['ProductCD','DT_D'])['isFraud'].agg(['count','mean'])\n",
        "te.reset_index(inplace=True)\n",
        "train['ProductCD_R_Day'] = pd.merge(train[['ProductCD','DT_D']],te[['ProductCD','DT_D','count']],on = ['ProductCD','DT_D'],how='left')['count']\n",
        "te = test.groupby(['ProductCD','DT_D'])['TransactionAmt'].agg(['count','mean'])\n",
        "te.reset_index(inplace=True)\n",
        "test['ProductCD_R_Day'] = pd.merge(test[['ProductCD','DT_D']],te[['ProductCD','DT_D','count']],on = ['ProductCD','DT_D'],how='left')['count']\n",
        "train.loc[train.ProductCD != 'R','ProductCD_R_Day'] = -999\n",
        "test.loc[test.ProductCD != 'R','ProductCD_R_Day'] = -999\n",
        "\n",
        "# H\n",
        "te = train.groupby(['ProductCD','DT_D'])['isFraud'].agg(['count','mean'])\n",
        "te.reset_index(inplace=True)\n",
        "train['ProductCD_H_Day'] = pd.merge(train[['ProductCD','DT_D']],te[['ProductCD','DT_D','count']],on = ['ProductCD','DT_D'],how='left')['count']\n",
        "te = test.groupby(['ProductCD','DT_D'])['TransactionAmt'].agg(['count','mean'])\n",
        "te.reset_index(inplace=True)\n",
        "test['ProductCD_H_Day'] = pd.merge(test[['ProductCD','DT_D']],te[['ProductCD','DT_D','count']],on = ['ProductCD','DT_D'],how='left')['count']\n",
        "train.loc[train.ProductCD != 'H','ProductCD_H_Day'] = -999\n",
        "test.loc[test.ProductCD != 'H','ProductCD_H_Day'] = -999\n",
        "\n",
        "# S\n",
        "te = train.groupby(['ProductCD','DT_D'])['isFraud'].agg(['count','mean'])\n",
        "te.reset_index(inplace=True)\n",
        "train['ProductCD_S_Day'] = pd.merge(train[['ProductCD','DT_D']],te[['ProductCD','DT_D','count']],on = ['ProductCD','DT_D'],how='left')['count']\n",
        "te = test.groupby(['ProductCD','DT_D'])['TransactionAmt'].agg(['count','mean'])\n",
        "te.reset_index(inplace=True)\n",
        "test['ProductCD_S_Day'] = pd.merge(test[['ProductCD','DT_D']],te[['ProductCD','DT_D','count']],on = ['ProductCD','DT_D'],how='left')['count']\n",
        "train.loc[train.ProductCD != 'S','ProductCD_S_Day'] = -999\n",
        "test.loc[test.ProductCD != 'S','ProductCD_S_Day'] = -999"
      ],
      "execution_count": 0,
      "outputs": []
    },
    {
      "cell_type": "code",
      "metadata": {
        "id": "EJVkPFTeAUkJ",
        "colab_type": "code",
        "outputId": "110ec43e-11e8-4cdd-8781-4a475d923754",
        "colab": {
          "base_uri": "https://localhost:8080/",
          "height": 34
        }
      },
      "source": [
        "# Five new fields have been added\n",
        "print(train.columns[-5:].tolist())"
      ],
      "execution_count": 0,
      "outputs": [
        {
          "output_type": "stream",
          "text": [
            "['ProductCD_W_Day', 'ProductCD_C_Day', 'ProductCD_R_Day', 'ProductCD_H_Day', 'ProductCD_S_Day']\n"
          ],
          "name": "stdout"
        }
      ]
    },
    {
      "cell_type": "code",
      "metadata": {
        "id": "DEcOAgCxAZ7S",
        "colab_type": "code",
        "colab": {}
      },
      "source": [
        "# Use card series and open_card fields are used as identifiers only UserID\n",
        "train['open_card'] = train.DT_D - train['D1']\n",
        "train['first_tran'] = train.DT_D - train['D2']\n",
        "test['open_card'] = test.DT_D - test['D1']\n",
        "test['first_tran'] = test.DT_D - test['D2']\n",
        "\n",
        "train['uid1'] = train['card1'].astype(str) +' '+ train['card2'].astype(str)+' '+ train['card3'].astype(str)+' '+train['card4'].astype(str)+' '+ train['card5'].astype(str)+' '+ train['card6'].astype(str) +' '+ train['addr1'].astype(str)+' '+train['addr2'].astype(str)+' '+train['open_card'].astype(str)\n",
        "test['uid1'] = test['card1'].astype(str) +' '+ test['card2'].astype(str)+' '+ test['card3'].astype(str)+' '+ test['card4'].astype(str)+' '+ test['card5'].astype(str)+' '+ test['card6'].astype(str) +' '+ test['addr1'].astype(str)+' '+test['addr2'].astype(str)+' '+test['open_card'] .astype(str)"
      ],
      "execution_count": 0,
      "outputs": []
    },
    {
      "cell_type": "code",
      "metadata": {
        "id": "zM2Dwwj-BCBO",
        "colab_type": "code",
        "outputId": "60f2c471-9b94-4f3e-85a6-e05a607cecd0",
        "colab": {
          "base_uri": "https://localhost:8080/",
          "height": 51
        }
      },
      "source": [
        "print(train['uid1'].nunique())\n",
        "print(test['uid1'].nunique())"
      ],
      "execution_count": 0,
      "outputs": [
        {
          "output_type": "stream",
          "text": [
            "222518\n",
            "198011\n"
          ],
          "name": "stdout"
        }
      ]
    },
    {
      "cell_type": "code",
      "metadata": {
        "id": "bWXS1EpZBGNz",
        "colab_type": "code",
        "colab": {}
      },
      "source": [
        "# Identify a device using id_30, id_31, id_32, id_33, DeviceType, DeviceInfo\n",
        "def device_hash(x):\n",
        "    s =  str(x['id_30'])+str(x['id_31'])+str(x['id_32'])+str(x['id_33'])+str( x['DeviceType'])+ str(x['DeviceInfo'])\n",
        "    h = hashlib.sha256(s.encode('utf-8')).hexdigest()[0:15]\n",
        "    return h"
      ],
      "execution_count": 0,
      "outputs": []
    },
    {
      "cell_type": "code",
      "metadata": {
        "id": "elX_TiKlBJKy",
        "colab_type": "code",
        "colab": {}
      },
      "source": [
        "for df in [train,test]:df['device_hash'] = df.apply(lambda x: device_hash(x), axis=1)"
      ],
      "execution_count": 0,
      "outputs": []
    },
    {
      "cell_type": "code",
      "metadata": {
        "id": "UQfyWrLbBMBu",
        "colab_type": "code",
        "colab": {}
      },
      "source": [
        "# Number of devices with the same user\n",
        "concat_df = pd.concat([train[['uid1','device_hash']],test[['uid1','device_hash']]])\n",
        "tmp = concat_df.groupby('uid1')['device_hash'].agg(['nunique'])"
      ],
      "execution_count": 0,
      "outputs": []
    },
    {
      "cell_type": "code",
      "metadata": {
        "id": "43FKB1KuBQtp",
        "colab_type": "code",
        "colab": {}
      },
      "source": [
        "train['uid_device_nunique'] = train.uid1.map(tmp.to_dict()['nunique'])\n",
        "test['uid_device_nunique'] = test.uid1.map(tmp.to_dict()['nunique'])"
      ],
      "execution_count": 0,
      "outputs": []
    },
    {
      "cell_type": "code",
      "metadata": {
        "id": "Otyz1JLgBSc_",
        "colab_type": "code",
        "colab": {}
      },
      "source": [
        "# Number of user with the same devices\n",
        "tmp = concat_df.groupby('device_hash')['uid1'].agg(['nunique'])\n",
        "train['device_uid_nunique'] = train.device_hash.map(tmp.to_dict()['nunique'])\n",
        "test['device_uid_nunique'] = test.device_hash.map(tmp.to_dict()['nunique'])"
      ],
      "execution_count": 0,
      "outputs": []
    },
    {
      "cell_type": "code",
      "metadata": {
        "id": "FF9zhl6dBUhc",
        "colab_type": "code",
        "colab": {}
      },
      "source": [
        "del concat_df"
      ],
      "execution_count": 0,
      "outputs": []
    },
    {
      "cell_type": "code",
      "metadata": {
        "id": "GuXXcJroBWqV",
        "colab_type": "code",
        "outputId": "da04fa52-2859-4205-b129-1e14faf19e59",
        "colab": {
          "base_uri": "https://localhost:8080/",
          "height": 34
        }
      },
      "source": [
        "# Get number of non-zero decimal digits\n",
        "def change(dec):\n",
        "    dec = np.round(dec,3)\n",
        "    num = 3\n",
        "    dec = int(np.round(np.round(dec,3)*1000))\n",
        "    while(dec % 10 ==0):\n",
        "        num = num-1\n",
        "        dec = dec /10\n",
        "    if num<0:\n",
        "        num = 0\n",
        "    return num\n",
        "  \n",
        "train['decimal_digit'] = train[\"TransactionAmt\"].map(change)\n",
        "test['decimal_digit'] = test['TransactionAmt'].map(change)\n",
        "\n",
        "gc.collect()"
      ],
      "execution_count": 0,
      "outputs": [
        {
          "output_type": "execute_result",
          "data": {
            "text/plain": [
              "60"
            ]
          },
          "metadata": {
            "tags": []
          },
          "execution_count": 22
        }
      ]
    },
    {
      "cell_type": "code",
      "metadata": {
        "id": "xRpqynfxB3E3",
        "colab_type": "code",
        "colab": {}
      },
      "source": [
        "# Fill missing value with zero \n",
        "train['had_id'] = train['had_id'].fillna(0)\n",
        "test['had_id'] = test['had_id'].fillna(0)"
      ],
      "execution_count": 0,
      "outputs": []
    },
    {
      "cell_type": "code",
      "metadata": {
        "id": "rhbi0xadBbLX",
        "colab_type": "code",
        "colab": {}
      },
      "source": [
        "# D series data has a trend of increasing with time. Future data is larger than past data, so zoom in and keep the relative relationship.\n",
        "for t in ['D1','D2','D4','D6','D10','D11','D12','D14','D15']:\n",
        "  train[t+'_revised'] = train[t]/train.groupby('DT_W')[t].transform('max')\n",
        "  test[t+'_revised'] = test[t]/test.groupby('DT_W')[t].transform('max')\n",
        "for t in ['D3','D5','D7','D8','D13']:\n",
        "  train[t+'_revised'] = train[t]/train.groupby('DT_M')[t].transform('max')\n",
        "  test[t+'_revised'] = test[t]/test.groupby('DT_M')[t].transform('max')"
      ],
      "execution_count": 0,
      "outputs": []
    },
    {
      "cell_type": "code",
      "metadata": {
        "id": "Ck2w5iVPCAbe",
        "colab_type": "code",
        "colab": {}
      },
      "source": [
        "test.loc[test.DT_W == 78 ,'D14_revised'] = test.loc[test.DT_W == 78 ,'D14_revised'].map(lambda x: np.nan if pd.isna(x) else x/900*530)"
      ],
      "execution_count": 0,
      "outputs": []
    },
    {
      "cell_type": "code",
      "metadata": {
        "id": "y5aBB_q9CDYG",
        "colab_type": "code",
        "colab": {}
      },
      "source": [
        "# Subdivide the time into days of the week and hours of the day.\n",
        "train['dow'] = train['TransactionDT'].dt.dayofweek\n",
        "train['hour'] = train['TransactionDT'].dt.hour\n",
        "test['dow'] = test['TransactionDT'].dt.dayofweek\n",
        "test['hour'] = test['TransactionDT'].dt.hour\n",
        "train['email_domain_comp'] = (train['P_emaildomain'].values == train['R_emaildomain'].values).astype(int)\n",
        "test['email_domain_comp'] = (test['P_emaildomain'].values == test['R_emaildomain'].values).astype(int)\n",
        "train.drop(['D9'],axis=1,inplace=True)\n",
        "test.drop(['D9'],axis=1,inplace=True)"
      ],
      "execution_count": 0,
      "outputs": []
    },
    {
      "cell_type": "code",
      "metadata": {
        "id": "nKm__75yCOwb",
        "colab_type": "code",
        "colab": {}
      },
      "source": [
        "# Categorical Variables\n",
        "cat_columns = ['uid1','id_12', 'id_13', 'id_14', 'id_15', 'id_16', 'id_17', 'id_18', 'id_19', 'id_20', 'id_21', 'id_22', 'id_23', 'id_24', 'id_25', 'id_26', 'id_27', 'id_28', 'id_29',\n",
        "            'id_30', 'id_31', 'id_32', 'id_33', 'id_34', 'id_35', 'id_36', 'id_37', 'id_38', 'DeviceType', 'DeviceInfo', 'ProductCD', 'card4', 'card6', 'M4','P_emaildomain',\n",
        "            'R_emaildomain', 'card1', 'card2', 'card3',  'card5', 'addr1', 'addr2', 'M1', 'M2', 'M3', 'M5', 'M6', 'M7', 'M8', 'M9','hour','dow','device_name', 'device_version', 'OS_id_30',  'browser_id_31']\n",
        "# Count Numerical\n",
        "count_columns = ['uid1','id_13','id_14','id_17','id_18','id_19','id_20','id_21','id_22','id_24','id_25','id_26','id_30','id_31','id_33',\n",
        "                 'DeviceInfo','card6','P_emaildomain','R_emaildomain','card1','card2','card3','card5','addr1','addr2','hour','device_version',\n",
        "                 'OS_id_30','browser_id_31']"
      ],
      "execution_count": 0,
      "outputs": []
    },
    {
      "cell_type": "code",
      "metadata": {
        "id": "HLznWG6ECvp7",
        "colab_type": "code",
        "colab": {}
      },
      "source": [
        "for f in cat_columns:\n",
        "  lbl = preprocessing.LabelEncoder()\n",
        "  lbl.fit(list(train[f].astype(str)) + list(test[f].astype(str)))\n",
        "  train[f] = lbl.transform(list(train[f].astype(str)))\n",
        "  test[f] = lbl.transform(list(test[f].astype(str))) "
      ],
      "execution_count": 0,
      "outputs": []
    },
    {
      "cell_type": "markdown",
      "metadata": {
        "id": "RA0rQ-v4Ec_G",
        "colab_type": "text"
      },
      "source": [
        "### Missing Values\n",
        "Impute all missing values with -999 which is very fast and model can still find some pattern instead of losing information by dropping them."
      ]
    },
    {
      "cell_type": "code",
      "metadata": {
        "id": "X24DpMd-CzRg",
        "colab_type": "code",
        "colab": {}
      },
      "source": [
        "train.fillna(-999,inplace = True)\n",
        "test.fillna(-999,inplace = True)"
      ],
      "execution_count": 0,
      "outputs": []
    },
    {
      "cell_type": "code",
      "metadata": {
        "id": "FWZaCPHwEhTV",
        "colab_type": "code",
        "colab": {}
      },
      "source": [
        "# Count encoding\n",
        "for i in count_columns:\n",
        "  train[i+'_count_full'] = train[i].map(pd.concat([train[i], test[i]], ignore_index=True).value_counts(dropna=False))\n",
        "  test[i+'_count_full'] = test[i].map(pd.concat([train[i], test[i]], ignore_index=True).value_counts(dropna=False))"
      ],
      "execution_count": 0,
      "outputs": []
    },
    {
      "cell_type": "code",
      "metadata": {
        "id": "gkwlq18lEojp",
        "colab_type": "code",
        "colab": {}
      },
      "source": [
        "# Calculate the number of transactions in hours and days\n",
        "train_test_all = pd.concat([train[['TransactionDT','TransactionAmt']],test[['TransactionDT','TransactionAmt']]],ignore_index=True,sort=False)\n",
        "train_test_all['day_count'] = train_test_all.groupby(train_test_all.TransactionDT.dt.date)['TransactionAmt'].transform('count')\n",
        "train_test_all['hour_count'] = train_test_all.groupby(train_test_all.TransactionDT.map(lambda x:str(x)[:13]))['TransactionAmt'].transform('count')\n",
        "train['day_count'] = train_test_all[:train_len].day_count.tolist()\n",
        "test['day_count'] = train_test_all[train_len:].day_count.tolist()\n",
        "train['hour_count'] = train_test_all[:train_len].hour_count.tolist()\n",
        "test['hour_count'] = train_test_all[train_len:].hour_count.tolist()"
      ],
      "execution_count": 0,
      "outputs": []
    },
    {
      "cell_type": "code",
      "metadata": {
        "id": "QlPtNSJ5E9l1",
        "colab_type": "code",
        "colab": {}
      },
      "source": [
        "# Identify commodity ID by price category\n",
        "temp123 = ['TransactionAmt__ProductCD']\n",
        "for feature in temp123:\n",
        "  f1, f2 = feature.split('__')\n",
        "  train[feature] = train[f1].astype(str) + '_' + train[f2].astype(str)\n",
        "  test[feature] = test[f1].astype(str) + '_' + test[f2].astype(str)\n",
        "  le = LabelEncoder()\n",
        "  le.fit(list(train[feature].astype(str).values) + list(test[feature].astype(str).values))\n",
        "  train[feature] = le.transform(list(train[feature].astype(str).values))\n",
        "  test[feature] = le.transform(list(test[feature].astype(str).values))\n",
        "train.rename(columns = {'TransactionAmt__ProductCD':'ProductID'},inplace=True)\n",
        "test.rename(columns = {'TransactionAmt__ProductCD':'ProductID'},inplace=True)\n",
        "for i in ['ProductID']:\n",
        "  train[i+'_count_full'] = train[i].map(pd.concat([train[i], test[i]], ignore_index=True).value_counts(dropna=False))\n",
        "  test[i+'_count_full'] = test[i].map(pd.concat([train[i], test[i]], ignore_index=True).value_counts(dropna=False))"
      ],
      "execution_count": 0,
      "outputs": []
    },
    {
      "cell_type": "code",
      "metadata": {
        "id": "lMCbZE6lFIjm",
        "colab_type": "code",
        "colab": {}
      },
      "source": [
        "# Similarly, continue to do some crossover categories\n",
        "temp = ['DeviceInfo__P_emaildomain', \n",
        "        'card1__card5', \n",
        "        'card2__id_20',\n",
        "        'card5__P_emaildomain', \n",
        "        'addr1__card1',\n",
        "        'addr1__addr2',\n",
        "        'card1__card2',\n",
        "        'card2__addr1',\n",
        "        'card1__P_emaildomain',\n",
        "        'card2__P_emaildomain',\n",
        "        'addr1__P_emaildomain',\n",
        "        'DeviceInfo__id_31',\n",
        "        'DeviceInfo__id_20',\n",
        "        'DeviceType__id_31',\n",
        "        'DeviceType__id_20',\n",
        "        'DeviceType__P_emaildomain',\n",
        "        'card1__M4',\n",
        "        'card2__M4',\n",
        "        'addr1__M4',\n",
        "        'P_emaildomain__M4',\n",
        "       'uid1__ProductID',\n",
        "       'uid1__DeviceInfo']\n",
        "for feature in temp:\n",
        "  f1, f2 = feature.split('__')\n",
        "  train[feature] = train[f1].astype(str) + '_' + train[f2].astype(str)\n",
        "  test[feature] = test[f1].astype(str) + '_' + test[f2].astype(str)\n",
        "  le = LabelEncoder()\n",
        "  le.fit(list(train[feature].astype(str).values) + list(test[feature].astype(str).values))\n",
        "  train[feature] = le.transform(list(train[feature].astype(str).values))\n",
        "  test[feature] = le.transform(list(test[feature].astype(str).values))\n",
        "\n",
        "for i in temp:\n",
        "  train[i+'_count_full'] = train[i].map(pd.concat([train[i], test[i]], ignore_index=True).value_counts(dropna=False))\n",
        "  test[i+'_count_full'] = test[i].map(pd.concat([train[i], test[i]], ignore_index=True).value_counts(dropna=False))"
      ],
      "execution_count": 0,
      "outputs": []
    },
    {
      "cell_type": "code",
      "metadata": {
        "id": "cUQcJsDWFXM9",
        "colab_type": "code",
        "colab": {}
      },
      "source": [
        "# Cross some categories and continuous variables\n",
        "con_fea = ['V258','C1','C14','C13','TransactionAmt','D15_revised','D2_revised','id_02','dist1','V294','C11']\n",
        "cat_fea = ['card1','card2','addr1','card4','R_emaildomain','P_emaildomain','ProductID','uid1']\n",
        "train_test = pd.concat([train[con_fea+cat_fea],test[con_fea+cat_fea]],ignore_index=True,sort=False)\n",
        "\n",
        "for cont in con_fea:\n",
        "  for cat in cat_fea:\n",
        "    train[cont+'_'+cat+'_mean'] = train_test[cont].map(lambda x:np.nan if x==-999 else x).groupby(train_test[cat]).transform('mean')[:train_len].tolist()\n",
        "    train[cont+'_'+cat+'_std'] = train_test[cont].map(lambda x:np.nan if x==-999 else x).groupby(train_test[cat]).transform('std')[:train_len].tolist()\n",
        "    test[cont+'_'+cat+'_mean'] = train_test[cont].map(lambda x:np.nan if x==-999 else x).groupby(train_test[cat]).transform('mean')[train_len:].tolist()\n",
        "    test[cont+'_'+cat+'_std'] =  train_test[cont].map(lambda x:np.nan if x==-999 else x).groupby(train_test[cat]).transform('std')[train_len:].tolist()"
      ],
      "execution_count": 0,
      "outputs": []
    },
    {
      "cell_type": "code",
      "metadata": {
        "id": "WkYkEsxMFqSN",
        "colab_type": "code",
        "outputId": "947f93b5-f5d3-4a27-de75-13dba1a9040b",
        "colab": {
          "base_uri": "https://localhost:8080/",
          "height": 34
        }
      },
      "source": [
        "del df\n",
        "del train_test\n",
        "del train_test_all\n",
        "gc.collect()"
      ],
      "execution_count": 0,
      "outputs": [
        {
          "output_type": "execute_result",
          "data": {
            "text/plain": [
              "0"
            ]
          },
          "metadata": {
            "tags": []
          },
          "execution_count": 35
        }
      ]
    },
    {
      "cell_type": "code",
      "metadata": {
        "id": "8g2oyARnFxI1",
        "colab_type": "code",
        "colab": {}
      },
      "source": [
        "train.drop(['DeviceInfo','device_version','DT_D','DT_W','DT_M','D15',\n",
        "              'D2','D1','D4','D6','D10','D11','D12','D3','D5','D7','D8','D13','D14','TransactionAmt_ProductID_mean'],axis=1,inplace=True)\n",
        "test.drop(['DeviceInfo','device_version','DT_D','DT_W','DT_M','D15',\n",
        "             'D2','D1','D4','D6','D10','D11','D12','D3','D5','D7','D8','D13','D14','TransactionAmt_ProductID_mean'],axis=1,inplace=True)"
      ],
      "execution_count": 0,
      "outputs": []
    },
    {
      "cell_type": "code",
      "metadata": {
        "id": "-7NEyHEOFznJ",
        "colab_type": "code",
        "colab": {}
      },
      "source": [
        "# Remove non important features \n",
        "drop = ['V256', 'V223', 'V19', 'V244', 'V324', 'V37', 'V200', 'card3', 'C1_P_emaildomain_mean', 'V131', 'V35', 'id_17_count_full', \n",
        "        'id_17', 'V30', 'V163', 'V81', 'V332', 'V164', 'D7_revised', 'id_02_R_emaildomain_std', 'V336', 'M9', 'V301', 'V251', 'M8', \n",
        "        'V275', 'V5', 'V272', 'V331', 'V215', 'V291', 'V129', 'C11_P_emaildomain_mean', 'id_34', 'V160', 'V139', 'V124', 'V159',\n",
        "        'V274', 'V59', 'V126', 'V52', 'V79', 'V271', 'V24', 'V137', 'V286', 'TransactionAmt_R_emaildomain_std', 'V335', 'V115', \n",
        "        'V198', 'V234', 'V298', 'V43', 'V258_card4_mean', 'V264', 'OS_id_30_count_full', 'V267', 'V169', 'V217', 'C3', 'V23', \n",
        "        'V287', 'id_18_count_full', 'V96', 'V208', 'card4', 'id_32', 'V232', 'V188', 'V4', 'V7', 'id_38', 'id_02_R_emaildomain_mean', \n",
        "        'V293', 'V219', 'V259', 'V276', 'C1_R_emaildomain_mean', 'V279', 'V102', 'V253', 'C13_R_emaildomain_std', 'V245', 'V73', \n",
        "        'browser_id_31', 'V74', 'V322', 'V209', 'V203', 'V273', 'V221', 'V40', 'V242', 'V289', 'D15_revised_R_emaildomain_std', \n",
        "        'C14_R_emaildomain_std', 'V150', 'V316', 'V239', 'V265', 'V278', 'V166', 'V172', 'V132', 'V93', 'V58', 'C1_R_emaildomain_std', \n",
        "        'V29', 'V300', 'V134', 'V254', 'V145', 'V141', 'C11_P_emaildomain_std', 'V292', 'V210', 'V231', 'V280', 'V158', 'V123', 'V135', \n",
        "        'V220', 'V39', 'V26', 'V238', 'id_11', 'V319', 'V125', 'id_37', 'V206', 'C1_card4_mean', 'V94', 'V304', 'V57', 'V270', 'V33', \n",
        "        'V170', 'V202', 'V218', 'V108', 'V303', 'V213', 'V222', 'V64', 'V263', 'V326', 'V10', 'V147', 'V101', 'V142', 'V97', 'V214', \n",
        "        'V105', 'V60', 'V171', 'V329', 'ProductCD', 'V216', 'V34', 'V25', 'V6', 'TransactionAmt_card4_mean', 'V212', 'V250', 'V3',\n",
        "        'V63', 'V194', 'id_36', 'V178', 'V42', 'V85', 'V193', 'V290', 'id_23', 'V258_card4_std', 'V15', 'V288', 'id_15', 'V182', 'V2', \n",
        "        'V192', 'V260', 'V235', 'id_26_count_full', 'V138', 'id_24', 'id_10', 'C1_card4_std', 'V11', 'id_08', 'id_25_count_full', 'id_07', \n",
        "        'V167', 'V51', 'V229', 'V248', 'V197', 'V230', 'V144', 'V233', 'V157', 'dist1_card4_std', 'V284', 'V140', 'addr2_count_full', 'V154', \n",
        "        'V22', 'V204', 'M1', 'V71', 'V211', 'V255', 'V72', 'TransactionAmt_card4_std', 'V1', 'V80', 'V184', 'V299', 'C11_R_emaildomain_mean', \n",
        "        'V173', 'V177', 'id_04', 'D15_revised_card4_std', 'V180', 'V228', 'V151', 'V186', 'OS_id_30', 'V109', 'DeviceType', 'V18', 'V17', \n",
        "        'id_26', 'V247', 'V9', 'V191', 'V148', 'V65', 'V196', 'id_21', 'V297', 'V46', 'V338', 'addr2', 'V95', 'V92', 'dist1_card4_mean', \n",
        "        'V334', 'V100', 'id_25', 'V179', 'V104', 'V116', 'V16', 'V183', 'id_21_count_full', 'V302', 'V199', 'V227', 'C11_R_emaildomain_std', \n",
        "        'V176', 'V249', 'V237', 'V327', 'id_16', 'V155', 'V8', 'V252', 'V175', 'V339', 'V330', 'V181', 'V190', 'C14_card4_mean', 'V14', 'V337', \n",
        "        'C14_card4_std', 'id_35', 'id_02_card4_mean', 'V110', 'id_12', 'V226', 'V168', 'V21', 'V153', 'V195', 'id_02_card4_std', 'V236', 'V174', \n",
        "        'id_28', 'V84', 'V32', 'V106', 'V41', 'V111', 'V112', 'V114', 'V146', 'V328', 'V50', 'id_29', 'C13_card4_mean', 'V103', 'V98', 'V121', \n",
        "        'id_24_count_full', 'D2_revised_card4_mean', 'had_id', 'V113', 'D2_revised_card4_std', 'V240', 'TransactionAmt_ProductID_std', 'V185', \n",
        "        'id_22_count_full', 'id_22', 'V31', 'C13_card4_std', 'V68', 'V88', 'V294_card4_std', 'V294_card4_mean', 'V122', 'dist1_R_emaildomain_mean', \n",
        "        'V118', 'V269', 'V107', 'V305', 'V117', 'V119', 'V120', 'C11_card4_mean', 'C11_card4_std', 'dist1_R_emaildomain_std', 'V89', 'V241', 'id_27', \n",
        "        'V325', 'V28', 'D15_revised_card4_mean', 'V27']"
      ],
      "execution_count": 0,
      "outputs": []
    },
    {
      "cell_type": "code",
      "metadata": {
        "id": "Ds4-9CASGVj6",
        "colab_type": "code",
        "colab": {}
      },
      "source": [
        "drop1 = drop[:200]\n",
        "drop2 = drop[200:]\n",
        "\n",
        "train.drop(drop1,axis=1,inplace=True)\n",
        "test.drop(drop1,axis=1,inplace=True)\n",
        "train.drop(drop2,axis=1,inplace=True)\n",
        "test.drop(drop2,axis=1,inplace=True)"
      ],
      "execution_count": 0,
      "outputs": []
    },
    {
      "cell_type": "code",
      "metadata": {
        "id": "1opSNtZrGdI8",
        "colab_type": "code",
        "colab": {}
      },
      "source": [
        "y_train = train['isFraud'].copy()\n",
        "X_train = train.drop(['TransactionID','isFraud','TransactionDT'],axis=1)\n",
        "X_test = test.drop(['TransactionID','TransactionDT'],axis=1)"
      ],
      "execution_count": 0,
      "outputs": []
    },
    {
      "cell_type": "code",
      "metadata": {
        "id": "-y-Uvi70GfoA",
        "colab_type": "code",
        "colab": {}
      },
      "source": [
        "del train,test"
      ],
      "execution_count": 0,
      "outputs": []
    },
    {
      "cell_type": "code",
      "metadata": {
        "id": "62jPwG37Ghzi",
        "colab_type": "code",
        "outputId": "bf9a9e3f-a6f0-4edd-d12b-708858b11897",
        "colab": {
          "base_uri": "https://localhost:8080/",
          "height": 51
        }
      },
      "source": [
        "print(X_train.shape)\n",
        "print(X_test.shape)"
      ],
      "execution_count": 0,
      "outputs": [
        {
          "output_type": "stream",
          "text": [
            "(590540, 359)\n",
            "(506691, 359)\n"
          ],
          "name": "stdout"
        }
      ]
    },
    {
      "cell_type": "code",
      "metadata": {
        "id": "CyKPvFBxGj9h",
        "colab_type": "code",
        "colab": {}
      },
      "source": [
        "cat = ['uid1','id_12', 'id_13', 'id_14', 'id_15', 'id_16', 'id_17', 'id_18', 'id_19', 'id_20', 'id_21', 'id_22', 'id_23', 'id_24', 'id_25', 'id_26', 'id_27', 'id_28', 'id_29',\n",
        "       'id_30', 'id_31', 'id_32', 'id_33', 'id_34', 'id_35', 'id_36', 'id_37', 'id_38', 'DeviceType', 'ProductCD', 'card4', 'card6', 'M4','P_emaildomain',\n",
        "       'R_emaildomain', 'card1', 'card2', 'card3',  'card5', 'addr1', 'addr2', 'M1', 'M2', 'M3', 'M5', 'M6', 'M7', 'M8', 'M9','hour','dow','device_name', 'OS_id_30',  'browser_id_31','ProductID',\n",
        "       'DeviceInfo__P_emaildomain', 'card1__card5', 'card2__id_20','card5__P_emaildomain', 'addr1__card1','addr1__addr2','card1__card2','card2__addr1','card1__P_emaildomain',\n",
        "        'card2__P_emaildomain','addr1__P_emaildomain','DeviceInfo__id_31','DeviceInfo__id_20','DeviceType__id_31','DeviceType__id_20','DeviceType__P_emaildomain',\n",
        "        'card1__M4','card2__M4','addr1__M4','P_emaildomain__M4','uid1__ProductID','uid1__DeviceInfo']\n",
        "        "
      ],
      "execution_count": 0,
      "outputs": []
    },
    {
      "cell_type": "code",
      "metadata": {
        "id": "B-ulGcgqG_Lk",
        "colab_type": "code",
        "colab": {}
      },
      "source": [
        "for i in drop:\n",
        "  if i in cat:\n",
        "    cat.remove(i)"
      ],
      "execution_count": 0,
      "outputs": []
    },
    {
      "cell_type": "code",
      "metadata": {
        "id": "Mw4fSdijHKTB",
        "colab_type": "code",
        "colab": {}
      },
      "source": [
        "X_train.drop(['device_hash'],axis=1,inplace=True)\n",
        "X_test.drop(['device_hash'],axis=1,inplace=True)"
      ],
      "execution_count": 0,
      "outputs": []
    },
    {
      "cell_type": "code",
      "metadata": {
        "id": "4u4NDJGmHNMt",
        "colab_type": "code",
        "colab": {}
      },
      "source": [
        "X_train.to_pickle('/content/drive/My Drive/IEEE-CIS Fraud Detection/X_train2.pkl')\n",
        "X_test.to_pickle('/content/drive/My Drive/IEEE-CIS Fraud Detection/X_test2.pkl')\n",
        "y_train.to_frame().to_pickle('/content/drive/My Drive/IEEE-CIS Fraud Detection/y_train2.pkl')"
      ],
      "execution_count": 0,
      "outputs": []
    },
    {
      "cell_type": "markdown",
      "metadata": {
        "id": "KT1FK0bMIi0x",
        "colab_type": "text"
      },
      "source": [
        "## Model"
      ]
    },
    {
      "cell_type": "code",
      "metadata": {
        "id": "gKWzCtnWKWgV",
        "colab_type": "code",
        "colab": {}
      },
      "source": [
        "X_train = pd.read_pickle(f'{folder_path}X_train2.pkl')\n",
        "X_test =  pd.read_pickle(f'{folder_path}X_test2.pkl')\n",
        "y_train = pd.read_pickle(f'{folder_path}y_train2.pkl')\n",
        "y_train = y_train.isFraud"
      ],
      "execution_count": 0,
      "outputs": []
    },
    {
      "cell_type": "code",
      "metadata": {
        "id": "j2uqhZd-LTUx",
        "colab_type": "code",
        "colab": {}
      },
      "source": [
        "cat = set(cat) & set(X_train.columns)"
      ],
      "execution_count": 0,
      "outputs": []
    },
    {
      "cell_type": "code",
      "metadata": {
        "id": "wWi4696iLuHy",
        "colab_type": "code",
        "outputId": "d8f437d3-ec62-4328-a201-6624d548e41b",
        "colab": {
          "base_uri": "https://localhost:8080/",
          "height": 1000
        }
      },
      "source": [
        "for column in cat:\n",
        "    train_set = set(X_train[column])\n",
        "    test_set = set(X_test[column])\n",
        "    tt = train_set.intersection(test_set)\n",
        "    print('----------------------------------------')\n",
        "    print(column)\n",
        "    print(f'train:{len(tt)/len(train_set)}')\n",
        "    print(f'test:{len(tt)/len(test_set)}')\n",
        "    X_train[column] = X_train[column].map(lambda x: -999 if x not in tt else x)\n",
        "    X_test[column] = X_test[column].map(lambda x: -999 if x not in tt else x)"
      ],
      "execution_count": 0,
      "outputs": [
        {
          "output_type": "stream",
          "text": [
            "----------------------------------------\n",
            "P_emaildomain\n",
            "train:1.0\n",
            "test:0.9836065573770492\n",
            "----------------------------------------\n",
            "card5\n",
            "train:0.7\n",
            "test:0.8155339805825242\n",
            "----------------------------------------\n",
            "uid1__DeviceInfo\n",
            "train:0.1028989375475554\n",
            "test:0.1150085488352212\n",
            "----------------------------------------\n",
            "id_18\n",
            "train:0.8947368421052632\n",
            "test:0.9444444444444444\n",
            "----------------------------------------\n",
            "addr1__card1\n",
            "train:0.5559863911542503\n",
            "test:0.5907604795194173\n",
            "----------------------------------------\n",
            "card2__M4\n",
            "train:0.9207073588134627\n",
            "test:0.9516509433962265\n",
            "----------------------------------------\n",
            "addr1__P_emaildomain\n",
            "train:0.7479224376731302\n",
            "test:0.7792207792207793\n",
            "----------------------------------------\n",
            "id_31\n",
            "train:0.7175572519083969\n",
            "test:0.6911764705882353\n",
            "----------------------------------------\n",
            "M2\n",
            "train:1.0\n",
            "test:1.0\n",
            "----------------------------------------\n",
            "card5__P_emaildomain\n",
            "train:0.7474226804123711\n",
            "test:0.8245329000812348\n",
            "----------------------------------------\n",
            "id_20\n",
            "train:0.7189873417721518\n",
            "test:0.6498855835240275\n",
            "----------------------------------------\n",
            "card1__M4\n",
            "train:0.6411827270793449\n",
            "test:0.6816680989642228\n",
            "----------------------------------------\n",
            "id_30\n",
            "train:0.9868421052631579\n",
            "test:0.8620689655172413\n",
            "----------------------------------------\n",
            "DeviceType__P_emaildomain\n",
            "train:0.9943502824858758\n",
            "test:0.9887640449438202\n",
            "----------------------------------------\n",
            "card2\n",
            "train:0.9920159680638723\n",
            "test:0.9979919678714859\n",
            "----------------------------------------\n",
            "R_emaildomain\n",
            "train:1.0\n",
            "test:1.0\n",
            "----------------------------------------\n",
            "card1__card2\n",
            "train:0.6867254199944919\n",
            "test:0.700765825897562\n",
            "----------------------------------------\n",
            "addr1__addr2\n",
            "train:0.5136986301369864\n",
            "test:0.569620253164557\n",
            "----------------------------------------\n",
            "card2__id_20\n",
            "train:0.6699238396321311\n",
            "test:0.6714676652743771\n",
            "----------------------------------------\n",
            "device_name\n",
            "train:0.8333333333333334\n",
            "test:0.8823529411764706\n",
            "----------------------------------------\n",
            "M5\n",
            "train:1.0\n",
            "test:1.0\n",
            "----------------------------------------\n",
            "id_14\n",
            "train:0.9615384615384616\n",
            "test:0.8928571428571429\n",
            "----------------------------------------\n",
            "M6\n",
            "train:1.0\n",
            "test:1.0\n",
            "----------------------------------------\n",
            "DeviceInfo__id_20\n",
            "train:0.3211884623725873\n",
            "test:0.25567544238239104\n",
            "----------------------------------------\n",
            "card2__P_emaildomain\n",
            "train:0.7593962710861202\n",
            "test:0.8160279853712832\n",
            "----------------------------------------\n",
            "M4\n",
            "train:1.0\n",
            "test:1.0\n",
            "----------------------------------------\n",
            "card1__P_emaildomain\n",
            "train:0.5412019042800303\n",
            "test:0.5949936788874842\n",
            "----------------------------------------\n",
            "DeviceInfo__id_31\n",
            "train:0.13367799113737075\n",
            "test:0.1395259202158412\n",
            "----------------------------------------\n",
            "uid1__ProductID\n",
            "train:0.04352361041676135\n",
            "test:0.051496664668066586\n",
            "----------------------------------------\n",
            "M7\n",
            "train:1.0\n",
            "test:1.0\n",
            "----------------------------------------\n",
            "P_emaildomain__M4\n",
            "train:0.9444444444444444\n",
            "test:0.966824644549763\n",
            "----------------------------------------\n",
            "id_13\n",
            "train:0.4909090909090909\n",
            "test:0.9642857142857143\n",
            "----------------------------------------\n",
            "addr1__M4\n",
            "train:0.6373983739837399\n",
            "test:0.6962699822380106\n",
            "----------------------------------------\n",
            "DeviceInfo__P_emaildomain\n",
            "train:0.40294840294840295\n",
            "test:0.3663859769719883\n",
            "----------------------------------------\n",
            "DeviceType__id_31\n",
            "train:0.7254901960784313\n",
            "test:0.6894409937888198\n",
            "----------------------------------------\n",
            "DeviceType__id_20\n",
            "train:0.7169179229480737\n",
            "test:0.6445783132530121\n",
            "----------------------------------------\n",
            "card2__addr1\n",
            "train:0.7194469805660624\n",
            "test:0.7564454196379594\n",
            "----------------------------------------\n",
            "id_19\n",
            "train:0.8738049713193117\n",
            "test:0.9085487077534792\n",
            "----------------------------------------\n",
            "id_33\n",
            "train:0.7279693486590039\n",
            "test:0.4859335038363171\n",
            "----------------------------------------\n",
            "card1__card5\n",
            "train:0.6877796901893287\n",
            "test:0.699922931408954\n",
            "----------------------------------------\n",
            "M3\n",
            "train:1.0\n",
            "test:1.0\n",
            "----------------------------------------\n",
            "uid1\n",
            "train:0.12073629998472034\n",
            "test:0.13567933094626056\n",
            "----------------------------------------\n",
            "dow\n",
            "train:1.0\n",
            "test:1.0\n",
            "----------------------------------------\n",
            "addr1\n",
            "train:0.5525525525525525\n",
            "test:0.6279863481228669\n",
            "----------------------------------------\n",
            "hour\n",
            "train:1.0\n",
            "test:1.0\n",
            "----------------------------------------\n",
            "card6\n",
            "train:0.8\n",
            "test:1.0\n",
            "----------------------------------------\n",
            "card1\n",
            "train:0.7161514055928576\n",
            "test:0.7328601630927213\n",
            "----------------------------------------\n",
            "ProductID\n",
            "train:0.2539071666588445\n",
            "test:0.3730777187780153\n"
          ],
          "name": "stdout"
        }
      ]
    },
    {
      "cell_type": "markdown",
      "metadata": {
        "id": "OUrDmWdYMOGo",
        "colab_type": "text"
      },
      "source": [
        "### LightGBM"
      ]
    },
    {
      "cell_type": "code",
      "metadata": {
        "id": "KKXEBoDr6Xmm",
        "colab_type": "code",
        "outputId": "72901b13-94cc-4357-c21f-7aa55286cc29",
        "colab": {
          "base_uri": "https://localhost:8080/",
          "height": 1000
        }
      },
      "source": [
        "kf=KFold(n_splits = 5)\n",
        "resu1 = 0\n",
        "impor1 = 0\n",
        "y_pred = 0\n",
        "stack_train = np.zeros([X_train.shape[0],])\n",
        "for train_index, test_index in kf.split(X_train, y_train):\n",
        "  X_train2= X_train.iloc[train_index,:]\n",
        "  y_train2= y_train.iloc[train_index]\n",
        "  X_test2= X_train.iloc[test_index,:]\n",
        "  y_test2= y_train.iloc[test_index]\n",
        "  clf = lgb.LGBMClassifier(n_estimators=100000, random_state=42,subsample=0.7,device=\"gpu\",colsample_bytree=0.7,learning_rate=0.005,importance_type = 'gain', \n",
        "                           max_depth = -1, num_leaves = 256,min_child_samples=20,min_split_gain = 0.001, bagging_freq=1,reg_alpha = 0,reg_lambda = 0,\n",
        "                           n_jobs = -1,metric='None')\n",
        "  clf.fit(X_train2,y_train2,eval_set = [(X_train2,y_train2),(X_test2,y_test2)], eval_metric = 'auc',early_stopping_rounds=500,verbose=100) \n",
        "  temp_predict = clf.predict_proba(X_test2)[:,1]\n",
        "  stack_train[test_index] = temp_predict\n",
        "  y_pred += clf.predict_proba(X_test)[:,1]/5\n",
        "  roc = roc_auc_score(y_test2, temp_predict)\n",
        "  print(roc)\n",
        "  resu1 += roc/5\n",
        "  impor1 += clf.feature_importances_/5\n",
        "  gc.collect()\n",
        "print(f'End:{resu1}')"
      ],
      "execution_count": 0,
      "outputs": [
        {
          "output_type": "stream",
          "text": [
            "Training until validation scores don't improve for 500 rounds\n",
            "[100]\ttraining's auc: 0.94876\tvalid_1's auc: 0.899152\n",
            "[200]\ttraining's auc: 0.964991\tvalid_1's auc: 0.908791\n",
            "[300]\ttraining's auc: 0.975864\tvalid_1's auc: 0.914508\n",
            "[400]\ttraining's auc: 0.982599\tvalid_1's auc: 0.919172\n",
            "[500]\ttraining's auc: 0.988055\tvalid_1's auc: 0.92274\n",
            "[600]\ttraining's auc: 0.991982\tvalid_1's auc: 0.926152\n",
            "[700]\ttraining's auc: 0.994667\tvalid_1's auc: 0.928831\n",
            "[800]\ttraining's auc: 0.996517\tvalid_1's auc: 0.931209\n",
            "[900]\ttraining's auc: 0.997716\tvalid_1's auc: 0.932915\n",
            "[1000]\ttraining's auc: 0.998518\tvalid_1's auc: 0.934465\n",
            "[1100]\ttraining's auc: 0.999045\tvalid_1's auc: 0.935828\n",
            "[1200]\ttraining's auc: 0.999375\tvalid_1's auc: 0.93694\n",
            "[1300]\ttraining's auc: 0.999587\tvalid_1's auc: 0.937947\n",
            "[1400]\ttraining's auc: 0.999724\tvalid_1's auc: 0.938807\n",
            "[1500]\ttraining's auc: 0.999816\tvalid_1's auc: 0.939537\n",
            "[1600]\ttraining's auc: 0.999875\tvalid_1's auc: 0.940151\n",
            "[1700]\ttraining's auc: 0.999916\tvalid_1's auc: 0.940588\n",
            "[1800]\ttraining's auc: 0.999945\tvalid_1's auc: 0.940973\n",
            "[1900]\ttraining's auc: 0.999963\tvalid_1's auc: 0.941255\n",
            "[2000]\ttraining's auc: 0.999976\tvalid_1's auc: 0.941467\n",
            "[2100]\ttraining's auc: 0.999984\tvalid_1's auc: 0.941699\n",
            "[2200]\ttraining's auc: 0.99999\tvalid_1's auc: 0.941859\n",
            "[2300]\ttraining's auc: 0.999993\tvalid_1's auc: 0.942024\n",
            "[2400]\ttraining's auc: 0.999997\tvalid_1's auc: 0.942104\n",
            "[2500]\ttraining's auc: 0.999998\tvalid_1's auc: 0.942158\n",
            "[2600]\ttraining's auc: 0.999999\tvalid_1's auc: 0.942238\n",
            "[2700]\ttraining's auc: 0.999999\tvalid_1's auc: 0.942298\n",
            "[2800]\ttraining's auc: 1\tvalid_1's auc: 0.942264\n",
            "[2900]\ttraining's auc: 1\tvalid_1's auc: 0.942323\n",
            "[3000]\ttraining's auc: 1\tvalid_1's auc: 0.942342\n",
            "[3100]\ttraining's auc: 1\tvalid_1's auc: 0.942309\n",
            "[3200]\ttraining's auc: 1\tvalid_1's auc: 0.942309\n",
            "[3300]\ttraining's auc: 1\tvalid_1's auc: 0.942355\n",
            "[3400]\ttraining's auc: 1\tvalid_1's auc: 0.942307\n",
            "[3500]\ttraining's auc: 1\tvalid_1's auc: 0.942378\n",
            "[3600]\ttraining's auc: 1\tvalid_1's auc: 0.942359\n",
            "[3700]\ttraining's auc: 1\tvalid_1's auc: 0.942392\n",
            "[3800]\ttraining's auc: 1\tvalid_1's auc: 0.942366\n",
            "[3900]\ttraining's auc: 1\tvalid_1's auc: 0.942307\n",
            "[4000]\ttraining's auc: 1\tvalid_1's auc: 0.942281\n",
            "[4100]\ttraining's auc: 1\tvalid_1's auc: 0.94226\n",
            "Early stopping, best iteration is:\n",
            "[3669]\ttraining's auc: 1\tvalid_1's auc: 0.942411\n",
            "0.9424106888363466\n",
            "Training until validation scores don't improve for 500 rounds\n",
            "[100]\ttraining's auc: 0.946747\tvalid_1's auc: 0.917235\n",
            "[200]\ttraining's auc: 0.961473\tvalid_1's auc: 0.92643\n",
            "[300]\ttraining's auc: 0.97408\tvalid_1's auc: 0.935637\n",
            "[400]\ttraining's auc: 0.982361\tvalid_1's auc: 0.942339\n",
            "[500]\ttraining's auc: 0.988124\tvalid_1's auc: 0.94658\n",
            "[600]\ttraining's auc: 0.992455\tvalid_1's auc: 0.949645\n",
            "[700]\ttraining's auc: 0.995338\tvalid_1's auc: 0.951472\n",
            "[800]\ttraining's auc: 0.99717\tvalid_1's auc: 0.953137\n",
            "[900]\ttraining's auc: 0.998256\tvalid_1's auc: 0.954429\n",
            "[1000]\ttraining's auc: 0.998906\tvalid_1's auc: 0.955372\n",
            "[1100]\ttraining's auc: 0.999307\tvalid_1's auc: 0.955949\n",
            "[1200]\ttraining's auc: 0.999553\tvalid_1's auc: 0.956614\n",
            "[1300]\ttraining's auc: 0.999708\tvalid_1's auc: 0.957129\n",
            "[1400]\ttraining's auc: 0.999808\tvalid_1's auc: 0.957541\n",
            "[1500]\ttraining's auc: 0.999873\tvalid_1's auc: 0.957797\n",
            "[1600]\ttraining's auc: 0.999917\tvalid_1's auc: 0.958042\n",
            "[1700]\ttraining's auc: 0.999947\tvalid_1's auc: 0.958222\n",
            "[1800]\ttraining's auc: 0.999967\tvalid_1's auc: 0.958305\n",
            "[1900]\ttraining's auc: 0.99998\tvalid_1's auc: 0.95839\n",
            "[2000]\ttraining's auc: 0.999988\tvalid_1's auc: 0.958572\n",
            "[2100]\ttraining's auc: 0.999993\tvalid_1's auc: 0.958696\n",
            "[2200]\ttraining's auc: 0.999996\tvalid_1's auc: 0.95875\n",
            "[2300]\ttraining's auc: 0.999998\tvalid_1's auc: 0.958785\n",
            "[2400]\ttraining's auc: 0.999999\tvalid_1's auc: 0.958799\n",
            "[2500]\ttraining's auc: 0.999999\tvalid_1's auc: 0.958808\n",
            "[2600]\ttraining's auc: 1\tvalid_1's auc: 0.958815\n",
            "[2700]\ttraining's auc: 1\tvalid_1's auc: 0.958822\n",
            "[2800]\ttraining's auc: 1\tvalid_1's auc: 0.958912\n",
            "[2900]\ttraining's auc: 1\tvalid_1's auc: 0.958927\n",
            "[3000]\ttraining's auc: 1\tvalid_1's auc: 0.958887\n",
            "[3100]\ttraining's auc: 1\tvalid_1's auc: 0.958978\n",
            "[3300]\ttraining's auc: 1\tvalid_1's auc: 0.958936\n",
            "[3400]\ttraining's auc: 1\tvalid_1's auc: 0.95885\n",
            "[3500]\ttraining's auc: 1\tvalid_1's auc: 0.958845\n",
            "[3600]\ttraining's auc: 1\tvalid_1's auc: 0.958849\n",
            "Early stopping, best iteration is:\n",
            "[3163]\ttraining's auc: 1\tvalid_1's auc: 0.959004\n",
            "0.9590039991259418\n",
            "Training until validation scores don't improve for 500 rounds\n",
            "[100]\ttraining's auc: 0.948827\tvalid_1's auc: 0.920041\n",
            "[200]\ttraining's auc: 0.963074\tvalid_1's auc: 0.928919\n",
            "[300]\ttraining's auc: 0.974168\tvalid_1's auc: 0.936608\n",
            "[400]\ttraining's auc: 0.982882\tvalid_1's auc: 0.943283\n",
            "[500]\ttraining's auc: 0.988553\tvalid_1's auc: 0.946949\n",
            "[600]\ttraining's auc: 0.992755\tvalid_1's auc: 0.949364\n",
            "[700]\ttraining's auc: 0.995443\tvalid_1's auc: 0.951137\n",
            "[800]\ttraining's auc: 0.997166\tvalid_1's auc: 0.95259\n",
            "[900]\ttraining's auc: 0.998241\tvalid_1's auc: 0.953643\n",
            "[1000]\ttraining's auc: 0.998885\tvalid_1's auc: 0.954325\n",
            "[1100]\ttraining's auc: 0.999295\tvalid_1's auc: 0.954926\n",
            "[1200]\ttraining's auc: 0.999541\tvalid_1's auc: 0.955336\n",
            "[1300]\ttraining's auc: 0.999695\tvalid_1's auc: 0.955652\n",
            "[1400]\ttraining's auc: 0.999796\tvalid_1's auc: 0.956008\n",
            "[1500]\ttraining's auc: 0.999863\tvalid_1's auc: 0.956213\n",
            "[1600]\ttraining's auc: 0.999909\tvalid_1's auc: 0.956381\n",
            "[1700]\ttraining's auc: 0.999941\tvalid_1's auc: 0.956553\n",
            "[1800]\ttraining's auc: 0.999962\tvalid_1's auc: 0.956659\n",
            "[1900]\ttraining's auc: 0.999976\tvalid_1's auc: 0.956831\n",
            "[2000]\ttraining's auc: 0.999986\tvalid_1's auc: 0.956923\n",
            "[2100]\ttraining's auc: 0.999992\tvalid_1's auc: 0.956989\n",
            "[2200]\ttraining's auc: 0.999995\tvalid_1's auc: 0.957023\n",
            "[2300]\ttraining's auc: 0.999997\tvalid_1's auc: 0.95707\n",
            "[2400]\ttraining's auc: 0.999999\tvalid_1's auc: 0.957106\n",
            "[2500]\ttraining's auc: 0.999999\tvalid_1's auc: 0.957206\n",
            "[2600]\ttraining's auc: 1\tvalid_1's auc: 0.957192\n",
            "[2700]\ttraining's auc: 1\tvalid_1's auc: 0.957142\n",
            "[2800]\ttraining's auc: 1\tvalid_1's auc: 0.957146\n",
            "[2900]\ttraining's auc: 1\tvalid_1's auc: 0.957192\n",
            "[3000]\ttraining's auc: 1\tvalid_1's auc: 0.957217\n",
            "Early stopping, best iteration is:\n",
            "[2554]\ttraining's auc: 0.999999\tvalid_1's auc: 0.957238\n",
            "0.9572375809268721\n",
            "Training until validation scores don't improve for 500 rounds\n",
            "[100]\ttraining's auc: 0.945676\tvalid_1's auc: 0.931555\n",
            "[200]\ttraining's auc: 0.962119\tvalid_1's auc: 0.941927\n",
            "[300]\ttraining's auc: 0.974667\tvalid_1's auc: 0.949146\n",
            "[400]\ttraining's auc: 0.982601\tvalid_1's auc: 0.953921\n",
            "[500]\ttraining's auc: 0.988341\tvalid_1's auc: 0.957439\n",
            "[600]\ttraining's auc: 0.992409\tvalid_1's auc: 0.9599\n",
            "[700]\ttraining's auc: 0.995166\tvalid_1's auc: 0.961717\n",
            "[800]\ttraining's auc: 0.997021\tvalid_1's auc: 0.963282\n",
            "[900]\ttraining's auc: 0.99817\tvalid_1's auc: 0.964361\n",
            "[1000]\ttraining's auc: 0.998854\tvalid_1's auc: 0.965227\n",
            "[1100]\ttraining's auc: 0.99928\tvalid_1's auc: 0.965953\n",
            "[1200]\ttraining's auc: 0.99954\tvalid_1's auc: 0.966331\n",
            "[1300]\ttraining's auc: 0.999698\tvalid_1's auc: 0.966639\n",
            "[1400]\ttraining's auc: 0.9998\tvalid_1's auc: 0.966809\n",
            "[1500]\ttraining's auc: 0.999865\tvalid_1's auc: 0.967033\n",
            "[1600]\ttraining's auc: 0.99991\tvalid_1's auc: 0.967198\n",
            "[1700]\ttraining's auc: 0.99994\tvalid_1's auc: 0.967326\n",
            "[1800]\ttraining's auc: 0.999961\tvalid_1's auc: 0.967448\n",
            "[1900]\ttraining's auc: 0.999975\tvalid_1's auc: 0.96755\n",
            "[2000]\ttraining's auc: 0.999984\tvalid_1's auc: 0.967607\n",
            "[2100]\ttraining's auc: 0.99999\tvalid_1's auc: 0.967646\n",
            "[2200]\ttraining's auc: 0.999994\tvalid_1's auc: 0.967687\n",
            "[2300]\ttraining's auc: 0.999997\tvalid_1's auc: 0.967735\n",
            "[2400]\ttraining's auc: 0.999998\tvalid_1's auc: 0.967776\n",
            "[2500]\ttraining's auc: 0.999999\tvalid_1's auc: 0.967803\n",
            "[2600]\ttraining's auc: 0.999999\tvalid_1's auc: 0.967869\n",
            "[2700]\ttraining's auc: 1\tvalid_1's auc: 0.967933\n",
            "[2800]\ttraining's auc: 1\tvalid_1's auc: 0.967936\n",
            "[2900]\ttraining's auc: 1\tvalid_1's auc: 0.967947\n",
            "[3000]\ttraining's auc: 1\tvalid_1's auc: 0.967903\n",
            "[3100]\ttraining's auc: 1\tvalid_1's auc: 0.967831\n",
            "[3200]\ttraining's auc: 1\tvalid_1's auc: 0.967783\n",
            "[3300]\ttraining's auc: 1\tvalid_1's auc: 0.967781\n",
            "Early stopping, best iteration is:\n",
            "[2885]\ttraining's auc: 1\tvalid_1's auc: 0.967972\n",
            "0.967971665060744\n",
            "Training until validation scores don't improve for 500 rounds\n",
            "[100]\ttraining's auc: 0.949402\tvalid_1's auc: 0.908165\n",
            "[200]\ttraining's auc: 0.964707\tvalid_1's auc: 0.918189\n",
            "[300]\ttraining's auc: 0.975846\tvalid_1's auc: 0.925087\n",
            "[400]\ttraining's auc: 0.983212\tvalid_1's auc: 0.92883\n",
            "[500]\ttraining's auc: 0.988859\tvalid_1's auc: 0.932455\n",
            "[600]\ttraining's auc: 0.992692\tvalid_1's auc: 0.935355\n",
            "[700]\ttraining's auc: 0.995281\tvalid_1's auc: 0.93748\n",
            "[800]\ttraining's auc: 0.997117\tvalid_1's auc: 0.939787\n",
            "[900]\ttraining's auc: 0.998194\tvalid_1's auc: 0.941415\n",
            "[1000]\ttraining's auc: 0.998879\tvalid_1's auc: 0.942615\n",
            "[1100]\ttraining's auc: 0.999285\tvalid_1's auc: 0.94345\n",
            "[1200]\ttraining's auc: 0.999534\tvalid_1's auc: 0.944305\n",
            "[1300]\ttraining's auc: 0.999694\tvalid_1's auc: 0.944971\n",
            "[1400]\ttraining's auc: 0.999799\tvalid_1's auc: 0.945452\n",
            "[1500]\ttraining's auc: 0.999867\tvalid_1's auc: 0.945835\n",
            "[1600]\ttraining's auc: 0.999912\tvalid_1's auc: 0.946109\n",
            "[1700]\ttraining's auc: 0.999942\tvalid_1's auc: 0.946415\n",
            "[1800]\ttraining's auc: 0.999962\tvalid_1's auc: 0.946815\n",
            "[1900]\ttraining's auc: 0.999975\tvalid_1's auc: 0.947039\n",
            "[2000]\ttraining's auc: 0.999984\tvalid_1's auc: 0.947186\n",
            "[2100]\ttraining's auc: 0.99999\tvalid_1's auc: 0.947379\n",
            "[2200]\ttraining's auc: 0.999994\tvalid_1's auc: 0.947452\n",
            "[2300]\ttraining's auc: 0.999997\tvalid_1's auc: 0.947619\n",
            "[2400]\ttraining's auc: 0.999998\tvalid_1's auc: 0.947783\n",
            "[2500]\ttraining's auc: 0.999999\tvalid_1's auc: 0.947784\n",
            "[2600]\ttraining's auc: 0.999999\tvalid_1's auc: 0.947773\n",
            "[2700]\ttraining's auc: 1\tvalid_1's auc: 0.94787\n",
            "[2800]\ttraining's auc: 1\tvalid_1's auc: 0.947892\n",
            "[2900]\ttraining's auc: 1\tvalid_1's auc: 0.948112\n",
            "[3000]\ttraining's auc: 1\tvalid_1's auc: 0.94802\n",
            "[3100]\ttraining's auc: 1\tvalid_1's auc: 0.948039\n",
            "[3200]\ttraining's auc: 1\tvalid_1's auc: 0.948036\n",
            "[3300]\ttraining's auc: 1\tvalid_1's auc: 0.948015\n",
            "[3400]\ttraining's auc: 1\tvalid_1's auc: 0.948015\n",
            "Early stopping, best iteration is:\n",
            "[2903]\ttraining's auc: 1\tvalid_1's auc: 0.948122\n",
            "0.9481224175080099\n",
            "End:0.9549492702915828\n"
          ],
          "name": "stdout"
        }
      ]
    },
    {
      "cell_type": "markdown",
      "metadata": {
        "id": "HCGOsYX2N3ud",
        "colab_type": "text"
      },
      "source": [
        "#### LightGBM Submission"
      ]
    },
    {
      "cell_type": "code",
      "metadata": {
        "id": "hywU4UABRzHm",
        "colab_type": "code",
        "colab": {}
      },
      "source": [
        "result = pd.read_csv(f'{folder_path}sample_submission.csv')\n",
        "result['isFraud'] = y_pred\n",
        "result.to_csv(f'{folder_path}lgbm.csv',index=False)\n",
        "\n",
        "df = pd.DataFrame()\n",
        "df['train'] = stack_train\n",
        "df.to_csv(f'{folder_path}lgb_train.csv',index=False)"
      ],
      "execution_count": 0,
      "outputs": []
    },
    {
      "cell_type": "markdown",
      "metadata": {
        "id": "tQMKQOUWOCem",
        "colab_type": "text"
      },
      "source": [
        "#### Leaderboard Score\n",
        "- **Public Score** : 0.961445 \n",
        "- **Private Score** : 0.938790"
      ]
    },
    {
      "cell_type": "markdown",
      "metadata": {
        "id": "IhT1qhLLpRJR",
        "colab_type": "text"
      },
      "source": [
        "### Extreme Gradient Boosting (XGBoost)"
      ]
    },
    {
      "cell_type": "code",
      "metadata": {
        "id": "lakr1_MhpT98",
        "colab_type": "code",
        "outputId": "aa684b18-7bf7-4421-b903-3a2ce5b93710",
        "colab": {
          "base_uri": "https://localhost:8080/",
          "height": 1000
        }
      },
      "source": [
        "kf=KFold(n_splits = 5)\n",
        "resu1 = 0\n",
        "impor1 = 0\n",
        "y_pred = 0\n",
        "stack_train = np.zeros([X_train.shape[0],])\n",
        "for train_index, test_index in kf.split(X_train, y_train):\n",
        "    X_train2= X_train.iloc[train_index,:]\n",
        "    y_train2= y_train.iloc[train_index]\n",
        "    X_test2= X_train.iloc[test_index,:]\n",
        "    y_test2= y_train.iloc[test_index]\n",
        "    clf = xgb.XGBClassifier(n_estimators=100000, max_depth=11, learning_rate=0.01,random_state=0, subsample=0.8,\n",
        "                                 colsample_bytree=0.6,min_child_weight = 3,reg_alpha=1,reg_lambda = 0.01,n_jobs=-1,tree_method='gpu_hist')\n",
        "    clf.fit(X_train2,y_train2,eval_set = [(X_train2,y_train2),(X_test2,y_test2)], eval_metric = 'auc',early_stopping_rounds=500,verbose=30)\n",
        "    del X_train2,y_train2\n",
        "    temp_predict = clf.predict_proba(X_test2)[:,1]\n",
        "    stack_train[test_index] = temp_predict\n",
        "    y_pred += clf.predict_proba(X_test)[:,1]/5\n",
        "    roc = roc_auc_score(y_test2, temp_predict)\n",
        "    print(roc)\n",
        "    resu1 += roc/5\n",
        "    impor1 += clf.feature_importances_/5\n",
        "    del X_test2,y_test2\n",
        "    gc.collect()\n",
        "print(f'End:{resu1}')"
      ],
      "execution_count": 0,
      "outputs": [
        {
          "output_type": "stream",
          "text": [
            "[0]\tvalidation_0-auc:0.875392\tvalidation_1-auc:0.837332\n",
            "Multiple eval metrics have been passed: 'validation_1-auc' will be used for early stopping.\n",
            "\n",
            "Will train until validation_1-auc hasn't improved in 500 rounds.\n",
            "[30]\tvalidation_0-auc:0.913719\tvalidation_1-auc:0.873556\n",
            "[60]\tvalidation_0-auc:0.920318\tvalidation_1-auc:0.879146\n",
            "[90]\tvalidation_0-auc:0.927378\tvalidation_1-auc:0.882703\n",
            "[120]\tvalidation_0-auc:0.935466\tvalidation_1-auc:0.887951\n",
            "[150]\tvalidation_0-auc:0.942164\tvalidation_1-auc:0.892231\n",
            "[180]\tvalidation_0-auc:0.947906\tvalidation_1-auc:0.895906\n",
            "[210]\tvalidation_0-auc:0.954397\tvalidation_1-auc:0.901053\n",
            "[240]\tvalidation_0-auc:0.960842\tvalidation_1-auc:0.905752\n",
            "[270]\tvalidation_0-auc:0.965854\tvalidation_1-auc:0.909052\n",
            "[300]\tvalidation_0-auc:0.970043\tvalidation_1-auc:0.911653\n",
            "[330]\tvalidation_0-auc:0.973566\tvalidation_1-auc:0.914284\n",
            "[360]\tvalidation_0-auc:0.976572\tvalidation_1-auc:0.915877\n",
            "[390]\tvalidation_0-auc:0.97955\tvalidation_1-auc:0.918207\n",
            "[420]\tvalidation_0-auc:0.982255\tvalidation_1-auc:0.919809\n",
            "[450]\tvalidation_0-auc:0.984488\tvalidation_1-auc:0.921469\n",
            "[480]\tvalidation_0-auc:0.986483\tvalidation_1-auc:0.922798\n",
            "[510]\tvalidation_0-auc:0.988262\tvalidation_1-auc:0.924274\n",
            "[540]\tvalidation_0-auc:0.989579\tvalidation_1-auc:0.925551\n",
            "[570]\tvalidation_0-auc:0.990714\tvalidation_1-auc:0.927083\n",
            "[600]\tvalidation_0-auc:0.991645\tvalidation_1-auc:0.928385\n",
            "[630]\tvalidation_0-auc:0.992451\tvalidation_1-auc:0.929409\n",
            "[660]\tvalidation_0-auc:0.993093\tvalidation_1-auc:0.930317\n",
            "[690]\tvalidation_0-auc:0.993752\tvalidation_1-auc:0.931195\n",
            "[720]\tvalidation_0-auc:0.994348\tvalidation_1-auc:0.931991\n",
            "[750]\tvalidation_0-auc:0.994785\tvalidation_1-auc:0.932606\n",
            "[780]\tvalidation_0-auc:0.995176\tvalidation_1-auc:0.933269\n",
            "[810]\tvalidation_0-auc:0.995502\tvalidation_1-auc:0.933677\n",
            "[840]\tvalidation_0-auc:0.995849\tvalidation_1-auc:0.934328\n",
            "[870]\tvalidation_0-auc:0.996123\tvalidation_1-auc:0.934933\n",
            "[900]\tvalidation_0-auc:0.996386\tvalidation_1-auc:0.935331\n",
            "[930]\tvalidation_0-auc:0.996666\tvalidation_1-auc:0.935611\n",
            "[960]\tvalidation_0-auc:0.996931\tvalidation_1-auc:0.936003\n",
            "[990]\tvalidation_0-auc:0.997145\tvalidation_1-auc:0.936364\n",
            "[1050]\tvalidation_0-auc:0.997501\tvalidation_1-auc:0.937084\n",
            "[1080]\tvalidation_0-auc:0.997645\tvalidation_1-auc:0.937507\n",
            "[1110]\tvalidation_0-auc:0.997818\tvalidation_1-auc:0.937805\n",
            "[1140]\tvalidation_0-auc:0.997965\tvalidation_1-auc:0.938058\n",
            "[1170]\tvalidation_0-auc:0.998088\tvalidation_1-auc:0.938258\n",
            "[1200]\tvalidation_0-auc:0.998217\tvalidation_1-auc:0.938447\n",
            "[1230]\tvalidation_0-auc:0.998346\tvalidation_1-auc:0.938655\n",
            "[1260]\tvalidation_0-auc:0.998447\tvalidation_1-auc:0.938815\n",
            "[1290]\tvalidation_0-auc:0.998538\tvalidation_1-auc:0.939095\n",
            "[1320]\tvalidation_0-auc:0.998649\tvalidation_1-auc:0.939225\n",
            "[1350]\tvalidation_0-auc:0.998731\tvalidation_1-auc:0.93934\n",
            "[1380]\tvalidation_0-auc:0.998813\tvalidation_1-auc:0.939527\n",
            "[1410]\tvalidation_0-auc:0.998888\tvalidation_1-auc:0.939664\n",
            "[1440]\tvalidation_0-auc:0.998959\tvalidation_1-auc:0.939718\n",
            "[1470]\tvalidation_0-auc:0.99903\tvalidation_1-auc:0.939788\n",
            "[1500]\tvalidation_0-auc:0.999085\tvalidation_1-auc:0.939883\n",
            "[1530]\tvalidation_0-auc:0.99913\tvalidation_1-auc:0.94003\n",
            "[1560]\tvalidation_0-auc:0.999183\tvalidation_1-auc:0.94018\n",
            "[1590]\tvalidation_0-auc:0.999238\tvalidation_1-auc:0.940288\n",
            "[1620]\tvalidation_0-auc:0.999288\tvalidation_1-auc:0.940433\n",
            "[1650]\tvalidation_0-auc:0.99934\tvalidation_1-auc:0.940519\n",
            "[1680]\tvalidation_0-auc:0.999393\tvalidation_1-auc:0.940524\n",
            "[1710]\tvalidation_0-auc:0.999427\tvalidation_1-auc:0.940535\n",
            "[1740]\tvalidation_0-auc:0.999466\tvalidation_1-auc:0.940591\n",
            "[1770]\tvalidation_0-auc:0.999501\tvalidation_1-auc:0.940697\n",
            "[1800]\tvalidation_0-auc:0.999533\tvalidation_1-auc:0.940736\n",
            "[1830]\tvalidation_0-auc:0.999567\tvalidation_1-auc:0.940789\n",
            "[1860]\tvalidation_0-auc:0.99959\tvalidation_1-auc:0.940875\n",
            "[1890]\tvalidation_0-auc:0.999619\tvalidation_1-auc:0.940868\n",
            "[1920]\tvalidation_0-auc:0.999644\tvalidation_1-auc:0.940913\n",
            "[1950]\tvalidation_0-auc:0.999667\tvalidation_1-auc:0.940902\n",
            "[1980]\tvalidation_0-auc:0.99969\tvalidation_1-auc:0.940887\n",
            "[2010]\tvalidation_0-auc:0.999709\tvalidation_1-auc:0.940907\n",
            "[2040]\tvalidation_0-auc:0.999732\tvalidation_1-auc:0.940838\n",
            "[2070]\tvalidation_0-auc:0.99975\tvalidation_1-auc:0.940837\n",
            "[2100]\tvalidation_0-auc:0.999768\tvalidation_1-auc:0.940932\n",
            "[2130]\tvalidation_0-auc:0.999781\tvalidation_1-auc:0.940945\n",
            "[2160]\tvalidation_0-auc:0.999802\tvalidation_1-auc:0.940928\n",
            "[2190]\tvalidation_0-auc:0.999814\tvalidation_1-auc:0.941015\n",
            "[2220]\tvalidation_0-auc:0.999827\tvalidation_1-auc:0.941003\n",
            "[2250]\tvalidation_0-auc:0.999839\tvalidation_1-auc:0.941038\n",
            "[2280]\tvalidation_0-auc:0.99985\tvalidation_1-auc:0.941079\n",
            "[2310]\tvalidation_0-auc:0.999862\tvalidation_1-auc:0.941101\n",
            "[2340]\tvalidation_0-auc:0.999872\tvalidation_1-auc:0.94111\n",
            "[2370]\tvalidation_0-auc:0.99988\tvalidation_1-auc:0.941147\n",
            "[2400]\tvalidation_0-auc:0.999889\tvalidation_1-auc:0.941096\n",
            "[2430]\tvalidation_0-auc:0.999896\tvalidation_1-auc:0.941101\n",
            "[2460]\tvalidation_0-auc:0.999902\tvalidation_1-auc:0.941126\n",
            "[2490]\tvalidation_0-auc:0.99991\tvalidation_1-auc:0.941089\n",
            "[2520]\tvalidation_0-auc:0.999918\tvalidation_1-auc:0.941071\n",
            "[2550]\tvalidation_0-auc:0.999924\tvalidation_1-auc:0.941081\n",
            "[2580]\tvalidation_0-auc:0.99993\tvalidation_1-auc:0.941109\n",
            "[2610]\tvalidation_0-auc:0.999935\tvalidation_1-auc:0.94111\n",
            "[2640]\tvalidation_0-auc:0.99994\tvalidation_1-auc:0.941145\n",
            "[2670]\tvalidation_0-auc:0.999944\tvalidation_1-auc:0.941218\n",
            "[2700]\tvalidation_0-auc:0.999949\tvalidation_1-auc:0.941237\n",
            "[2730]\tvalidation_0-auc:0.999952\tvalidation_1-auc:0.941296\n",
            "[2760]\tvalidation_0-auc:0.999955\tvalidation_1-auc:0.941319\n",
            "[2790]\tvalidation_0-auc:0.999959\tvalidation_1-auc:0.94132\n",
            "[2820]\tvalidation_0-auc:0.999961\tvalidation_1-auc:0.941275\n",
            "[2850]\tvalidation_0-auc:0.999964\tvalidation_1-auc:0.941277\n",
            "[2880]\tvalidation_0-auc:0.999967\tvalidation_1-auc:0.941375\n",
            "[2910]\tvalidation_0-auc:0.99997\tvalidation_1-auc:0.941363\n",
            "[2940]\tvalidation_0-auc:0.999972\tvalidation_1-auc:0.941332\n",
            "[2970]\tvalidation_0-auc:0.999974\tvalidation_1-auc:0.941354\n",
            "[3000]\tvalidation_0-auc:0.999976\tvalidation_1-auc:0.941313\n",
            "[3030]\tvalidation_0-auc:0.999979\tvalidation_1-auc:0.941322\n",
            "[3060]\tvalidation_0-auc:0.999981\tvalidation_1-auc:0.941424\n",
            "[3090]\tvalidation_0-auc:0.999982\tvalidation_1-auc:0.94144\n",
            "[3120]\tvalidation_0-auc:0.999984\tvalidation_1-auc:0.94144\n",
            "[3150]\tvalidation_0-auc:0.999985\tvalidation_1-auc:0.941537\n",
            "[3180]\tvalidation_0-auc:0.999987\tvalidation_1-auc:0.94156\n",
            "[3210]\tvalidation_0-auc:0.999988\tvalidation_1-auc:0.941632\n",
            "[3240]\tvalidation_0-auc:0.999989\tvalidation_1-auc:0.941623\n",
            "[3270]\tvalidation_0-auc:0.99999\tvalidation_1-auc:0.94165\n",
            "[3300]\tvalidation_0-auc:0.999991\tvalidation_1-auc:0.941637\n",
            "[3330]\tvalidation_0-auc:0.999991\tvalidation_1-auc:0.941662\n",
            "[3360]\tvalidation_0-auc:0.999992\tvalidation_1-auc:0.941648\n",
            "[3390]\tvalidation_0-auc:0.999993\tvalidation_1-auc:0.941665\n",
            "[3420]\tvalidation_0-auc:0.999993\tvalidation_1-auc:0.941661\n",
            "[3450]\tvalidation_0-auc:0.999994\tvalidation_1-auc:0.941674\n",
            "[3480]\tvalidation_0-auc:0.999994\tvalidation_1-auc:0.941738\n",
            "[3510]\tvalidation_0-auc:0.999995\tvalidation_1-auc:0.941711\n",
            "[3540]\tvalidation_0-auc:0.999995\tvalidation_1-auc:0.941653\n",
            "[3570]\tvalidation_0-auc:0.999996\tvalidation_1-auc:0.941636\n",
            "[3600]\tvalidation_0-auc:0.999996\tvalidation_1-auc:0.941643\n",
            "[3630]\tvalidation_0-auc:0.999996\tvalidation_1-auc:0.941648\n",
            "[3660]\tvalidation_0-auc:0.999997\tvalidation_1-auc:0.941669\n",
            "[3690]\tvalidation_0-auc:0.999997\tvalidation_1-auc:0.941709\n",
            "[3720]\tvalidation_0-auc:0.999997\tvalidation_1-auc:0.941725\n",
            "[3750]\tvalidation_0-auc:0.999998\tvalidation_1-auc:0.941758\n",
            "[3780]\tvalidation_0-auc:0.999998\tvalidation_1-auc:0.941734\n",
            "[3810]\tvalidation_0-auc:0.999998\tvalidation_1-auc:0.941719\n",
            "[3840]\tvalidation_0-auc:0.999998\tvalidation_1-auc:0.941747\n",
            "[3870]\tvalidation_0-auc:0.999998\tvalidation_1-auc:0.941766\n",
            "[3900]\tvalidation_0-auc:0.999999\tvalidation_1-auc:0.941772\n",
            "[3930]\tvalidation_0-auc:0.999999\tvalidation_1-auc:0.941799\n",
            "[3960]\tvalidation_0-auc:0.999999\tvalidation_1-auc:0.941836\n",
            "[3990]\tvalidation_0-auc:0.999999\tvalidation_1-auc:0.941823\n",
            "[4020]\tvalidation_0-auc:0.999999\tvalidation_1-auc:0.941796\n",
            "[4050]\tvalidation_0-auc:0.999999\tvalidation_1-auc:0.941805\n",
            "[4080]\tvalidation_0-auc:0.999999\tvalidation_1-auc:0.941833\n",
            "[4110]\tvalidation_0-auc:0.999999\tvalidation_1-auc:0.941822\n",
            "[4140]\tvalidation_0-auc:0.999999\tvalidation_1-auc:0.94178\n",
            "[4170]\tvalidation_0-auc:0.999999\tvalidation_1-auc:0.941741\n",
            "[4200]\tvalidation_0-auc:0.999999\tvalidation_1-auc:0.941739\n",
            "[4230]\tvalidation_0-auc:0.999999\tvalidation_1-auc:0.941771\n",
            "[4260]\tvalidation_0-auc:0.999999\tvalidation_1-auc:0.941771\n",
            "[4290]\tvalidation_0-auc:1\tvalidation_1-auc:0.941775\n",
            "[4320]\tvalidation_0-auc:1\tvalidation_1-auc:0.941792\n",
            "[4350]\tvalidation_0-auc:1\tvalidation_1-auc:0.941807\n",
            "[4380]\tvalidation_0-auc:1\tvalidation_1-auc:0.941794\n",
            "[4410]\tvalidation_0-auc:1\tvalidation_1-auc:0.941777\n",
            "[4440]\tvalidation_0-auc:1\tvalidation_1-auc:0.941765\n",
            "Stopping. Best iteration:\n",
            "[3968]\tvalidation_0-auc:0.999999\tvalidation_1-auc:0.941858\n",
            "\n",
            "0.9418577921965268\n",
            "[0]\tvalidation_0-auc:0.87853\tvalidation_1-auc:0.854017\n",
            "Multiple eval metrics have been passed: 'validation_1-auc' will be used for early stopping.\n",
            "\n",
            "Will train until validation_1-auc hasn't improved in 500 rounds.\n",
            "[30]\tvalidation_0-auc:0.914625\tvalidation_1-auc:0.896548\n",
            "[60]\tvalidation_0-auc:0.92037\tvalidation_1-auc:0.900214\n",
            "[90]\tvalidation_0-auc:0.926122\tvalidation_1-auc:0.903533\n",
            "[120]\tvalidation_0-auc:0.932171\tvalidation_1-auc:0.907054\n",
            "[150]\tvalidation_0-auc:0.938152\tvalidation_1-auc:0.911214\n",
            "[180]\tvalidation_0-auc:0.942732\tvalidation_1-auc:0.913998\n",
            "[210]\tvalidation_0-auc:0.948876\tvalidation_1-auc:0.917637\n",
            "[240]\tvalidation_0-auc:0.954183\tvalidation_1-auc:0.921428\n",
            "[270]\tvalidation_0-auc:0.960277\tvalidation_1-auc:0.925392\n",
            "[300]\tvalidation_0-auc:0.965752\tvalidation_1-auc:0.929355\n",
            "[330]\tvalidation_0-auc:0.970702\tvalidation_1-auc:0.93333\n",
            "[360]\tvalidation_0-auc:0.974917\tvalidation_1-auc:0.936962\n",
            "[390]\tvalidation_0-auc:0.977955\tvalidation_1-auc:0.939352\n",
            "[420]\tvalidation_0-auc:0.98075\tvalidation_1-auc:0.941822\n",
            "[450]\tvalidation_0-auc:0.983142\tvalidation_1-auc:0.943787\n",
            "[480]\tvalidation_0-auc:0.985176\tvalidation_1-auc:0.94544\n",
            "[510]\tvalidation_0-auc:0.986992\tvalidation_1-auc:0.947204\n",
            "[540]\tvalidation_0-auc:0.988545\tvalidation_1-auc:0.948611\n",
            "[570]\tvalidation_0-auc:0.989938\tvalidation_1-auc:0.949895\n",
            "[600]\tvalidation_0-auc:0.990872\tvalidation_1-auc:0.950808\n",
            "[630]\tvalidation_0-auc:0.991704\tvalidation_1-auc:0.951522\n",
            "[660]\tvalidation_0-auc:0.99239\tvalidation_1-auc:0.95228\n",
            "[690]\tvalidation_0-auc:0.993119\tvalidation_1-auc:0.952869\n",
            "[720]\tvalidation_0-auc:0.993692\tvalidation_1-auc:0.953375\n",
            "[750]\tvalidation_0-auc:0.994132\tvalidation_1-auc:0.953876\n",
            "[780]\tvalidation_0-auc:0.994556\tvalidation_1-auc:0.954243\n",
            "[810]\tvalidation_0-auc:0.994923\tvalidation_1-auc:0.95457\n",
            "[840]\tvalidation_0-auc:0.995282\tvalidation_1-auc:0.954764\n",
            "[870]\tvalidation_0-auc:0.995617\tvalidation_1-auc:0.954991\n",
            "[900]\tvalidation_0-auc:0.995907\tvalidation_1-auc:0.955331\n",
            "[930]\tvalidation_0-auc:0.996198\tvalidation_1-auc:0.955515\n",
            "[960]\tvalidation_0-auc:0.996482\tvalidation_1-auc:0.95569\n",
            "[990]\tvalidation_0-auc:0.996751\tvalidation_1-auc:0.955903\n",
            "[1020]\tvalidation_0-auc:0.996951\tvalidation_1-auc:0.956077\n",
            "[1050]\tvalidation_0-auc:0.997118\tvalidation_1-auc:0.956188\n",
            "[1080]\tvalidation_0-auc:0.997293\tvalidation_1-auc:0.956186\n",
            "[1110]\tvalidation_0-auc:0.99748\tvalidation_1-auc:0.956257\n",
            "[1140]\tvalidation_0-auc:0.997635\tvalidation_1-auc:0.956358\n",
            "[1170]\tvalidation_0-auc:0.997762\tvalidation_1-auc:0.956477\n",
            "[1200]\tvalidation_0-auc:0.997893\tvalidation_1-auc:0.956605\n",
            "[1230]\tvalidation_0-auc:0.998043\tvalidation_1-auc:0.95669\n",
            "[1260]\tvalidation_0-auc:0.998172\tvalidation_1-auc:0.956766\n",
            "[1290]\tvalidation_0-auc:0.998289\tvalidation_1-auc:0.956807\n",
            "[1320]\tvalidation_0-auc:0.998383\tvalidation_1-auc:0.956936\n",
            "[1350]\tvalidation_0-auc:0.998479\tvalidation_1-auc:0.956998\n",
            "[1380]\tvalidation_0-auc:0.998581\tvalidation_1-auc:0.957059\n",
            "[1410]\tvalidation_0-auc:0.99868\tvalidation_1-auc:0.957092\n",
            "[1440]\tvalidation_0-auc:0.998776\tvalidation_1-auc:0.957206\n",
            "[1470]\tvalidation_0-auc:0.998862\tvalidation_1-auc:0.957254\n",
            "[1500]\tvalidation_0-auc:0.998932\tvalidation_1-auc:0.957216\n",
            "[1530]\tvalidation_0-auc:0.999009\tvalidation_1-auc:0.957266\n",
            "[1560]\tvalidation_0-auc:0.999079\tvalidation_1-auc:0.957327\n",
            "[1590]\tvalidation_0-auc:0.999136\tvalidation_1-auc:0.957406\n",
            "[1620]\tvalidation_0-auc:0.9992\tvalidation_1-auc:0.957376\n",
            "[1650]\tvalidation_0-auc:0.999256\tvalidation_1-auc:0.957346\n",
            "[1680]\tvalidation_0-auc:0.99931\tvalidation_1-auc:0.957304\n",
            "[1710]\tvalidation_0-auc:0.99935\tvalidation_1-auc:0.957346\n",
            "[1740]\tvalidation_0-auc:0.999401\tvalidation_1-auc:0.957402\n",
            "[1770]\tvalidation_0-auc:0.999439\tvalidation_1-auc:0.957477\n",
            "[1800]\tvalidation_0-auc:0.99948\tvalidation_1-auc:0.957502\n",
            "[1830]\tvalidation_0-auc:0.999511\tvalidation_1-auc:0.957496\n",
            "[1860]\tvalidation_0-auc:0.999543\tvalidation_1-auc:0.957446\n",
            "[1890]\tvalidation_0-auc:0.999586\tvalidation_1-auc:0.957483\n",
            "[1920]\tvalidation_0-auc:0.999613\tvalidation_1-auc:0.95746\n",
            "[1950]\tvalidation_0-auc:0.999636\tvalidation_1-auc:0.957465\n",
            "[1980]\tvalidation_0-auc:0.999664\tvalidation_1-auc:0.957497\n",
            "[2010]\tvalidation_0-auc:0.999687\tvalidation_1-auc:0.957531\n",
            "[2040]\tvalidation_0-auc:0.999709\tvalidation_1-auc:0.957603\n",
            "[2070]\tvalidation_0-auc:0.999732\tvalidation_1-auc:0.957611\n",
            "[2100]\tvalidation_0-auc:0.999751\tvalidation_1-auc:0.957585\n",
            "[2130]\tvalidation_0-auc:0.999767\tvalidation_1-auc:0.957651\n",
            "[2160]\tvalidation_0-auc:0.999786\tvalidation_1-auc:0.957637\n",
            "[2190]\tvalidation_0-auc:0.999803\tvalidation_1-auc:0.957616\n",
            "[2220]\tvalidation_0-auc:0.999817\tvalidation_1-auc:0.957613\n",
            "[2250]\tvalidation_0-auc:0.99983\tvalidation_1-auc:0.957563\n",
            "[2280]\tvalidation_0-auc:0.999842\tvalidation_1-auc:0.957571\n",
            "[2310]\tvalidation_0-auc:0.999853\tvalidation_1-auc:0.95756\n",
            "[2340]\tvalidation_0-auc:0.999862\tvalidation_1-auc:0.957556\n",
            "[2370]\tvalidation_0-auc:0.999872\tvalidation_1-auc:0.957593\n",
            "[2400]\tvalidation_0-auc:0.999879\tvalidation_1-auc:0.95755\n",
            "[2430]\tvalidation_0-auc:0.999888\tvalidation_1-auc:0.957595\n",
            "[2460]\tvalidation_0-auc:0.999898\tvalidation_1-auc:0.957629\n",
            "[2490]\tvalidation_0-auc:0.999906\tvalidation_1-auc:0.957636\n",
            "[2520]\tvalidation_0-auc:0.999914\tvalidation_1-auc:0.95765\n",
            "[2550]\tvalidation_0-auc:0.999922\tvalidation_1-auc:0.957654\n",
            "[2580]\tvalidation_0-auc:0.999929\tvalidation_1-auc:0.957624\n",
            "[2610]\tvalidation_0-auc:0.999935\tvalidation_1-auc:0.957641\n",
            "Stopping. Best iteration:\n",
            "[2120]\tvalidation_0-auc:0.999762\tvalidation_1-auc:0.957664\n",
            "\n",
            "0.9576643861021303\n",
            "[0]\tvalidation_0-auc:0.890869\tvalidation_1-auc:0.864755\n",
            "Multiple eval metrics have been passed: 'validation_1-auc' will be used for early stopping.\n",
            "\n",
            "Will train until validation_1-auc hasn't improved in 500 rounds.\n",
            "[30]\tvalidation_0-auc:0.918164\tvalidation_1-auc:0.898944\n",
            "[60]\tvalidation_0-auc:0.923096\tvalidation_1-auc:0.901329\n",
            "[90]\tvalidation_0-auc:0.92928\tvalidation_1-auc:0.906054\n",
            "[120]\tvalidation_0-auc:0.936783\tvalidation_1-auc:0.91089\n",
            "[150]\tvalidation_0-auc:0.943111\tvalidation_1-auc:0.915143\n",
            "[180]\tvalidation_0-auc:0.947581\tvalidation_1-auc:0.918301\n",
            "[210]\tvalidation_0-auc:0.952245\tvalidation_1-auc:0.921526\n",
            "[240]\tvalidation_0-auc:0.958371\tvalidation_1-auc:0.925816\n",
            "[270]\tvalidation_0-auc:0.963704\tvalidation_1-auc:0.929244\n",
            "[300]\tvalidation_0-auc:0.968536\tvalidation_1-auc:0.932303\n",
            "[330]\tvalidation_0-auc:0.97295\tvalidation_1-auc:0.935744\n",
            "[360]\tvalidation_0-auc:0.976631\tvalidation_1-auc:0.939016\n",
            "[390]\tvalidation_0-auc:0.979556\tvalidation_1-auc:0.941455\n",
            "[420]\tvalidation_0-auc:0.982207\tvalidation_1-auc:0.943245\n",
            "[450]\tvalidation_0-auc:0.984416\tvalidation_1-auc:0.944858\n",
            "[480]\tvalidation_0-auc:0.98635\tvalidation_1-auc:0.946204\n",
            "[510]\tvalidation_0-auc:0.98801\tvalidation_1-auc:0.947201\n",
            "[540]\tvalidation_0-auc:0.989265\tvalidation_1-auc:0.948051\n",
            "[570]\tvalidation_0-auc:0.990518\tvalidation_1-auc:0.948995\n",
            "[600]\tvalidation_0-auc:0.991482\tvalidation_1-auc:0.94978\n",
            "[630]\tvalidation_0-auc:0.992316\tvalidation_1-auc:0.950298\n",
            "[660]\tvalidation_0-auc:0.992964\tvalidation_1-auc:0.950729\n",
            "[690]\tvalidation_0-auc:0.993594\tvalidation_1-auc:0.951219\n",
            "[720]\tvalidation_0-auc:0.994115\tvalidation_1-auc:0.951675\n",
            "[750]\tvalidation_0-auc:0.994602\tvalidation_1-auc:0.952024\n",
            "[780]\tvalidation_0-auc:0.995019\tvalidation_1-auc:0.952303\n",
            "[810]\tvalidation_0-auc:0.995343\tvalidation_1-auc:0.952373\n",
            "[840]\tvalidation_0-auc:0.995689\tvalidation_1-auc:0.952582\n",
            "[870]\tvalidation_0-auc:0.996025\tvalidation_1-auc:0.952938\n",
            "[900]\tvalidation_0-auc:0.996336\tvalidation_1-auc:0.953184\n",
            "[930]\tvalidation_0-auc:0.996541\tvalidation_1-auc:0.953281\n",
            "[960]\tvalidation_0-auc:0.996769\tvalidation_1-auc:0.953379\n",
            "[990]\tvalidation_0-auc:0.997055\tvalidation_1-auc:0.953456\n",
            "[1020]\tvalidation_0-auc:0.997212\tvalidation_1-auc:0.953532\n",
            "[1050]\tvalidation_0-auc:0.997386\tvalidation_1-auc:0.953613\n",
            "[1080]\tvalidation_0-auc:0.997553\tvalidation_1-auc:0.953749\n",
            "[1110]\tvalidation_0-auc:0.997729\tvalidation_1-auc:0.953777\n",
            "[1140]\tvalidation_0-auc:0.99787\tvalidation_1-auc:0.953895\n",
            "[1170]\tvalidation_0-auc:0.998032\tvalidation_1-auc:0.953932\n",
            "[1200]\tvalidation_0-auc:0.998167\tvalidation_1-auc:0.953989\n",
            "[1230]\tvalidation_0-auc:0.998287\tvalidation_1-auc:0.953989\n",
            "[1260]\tvalidation_0-auc:0.9984\tvalidation_1-auc:0.954063\n",
            "[1290]\tvalidation_0-auc:0.998506\tvalidation_1-auc:0.954098\n",
            "[1320]\tvalidation_0-auc:0.998598\tvalidation_1-auc:0.95416\n",
            "[1350]\tvalidation_0-auc:0.99869\tvalidation_1-auc:0.954181\n",
            "[1380]\tvalidation_0-auc:0.998775\tvalidation_1-auc:0.954284\n",
            "[1410]\tvalidation_0-auc:0.998853\tvalidation_1-auc:0.954264\n",
            "[1440]\tvalidation_0-auc:0.998932\tvalidation_1-auc:0.954288\n",
            "[1470]\tvalidation_0-auc:0.999002\tvalidation_1-auc:0.954302\n",
            "[1500]\tvalidation_0-auc:0.999066\tvalidation_1-auc:0.954345\n",
            "[1530]\tvalidation_0-auc:0.999135\tvalidation_1-auc:0.954358\n",
            "[1560]\tvalidation_0-auc:0.999196\tvalidation_1-auc:0.954313\n",
            "[1590]\tvalidation_0-auc:0.999247\tvalidation_1-auc:0.954336\n",
            "[1620]\tvalidation_0-auc:0.999302\tvalidation_1-auc:0.954297\n",
            "[1650]\tvalidation_0-auc:0.999349\tvalidation_1-auc:0.95431\n",
            "[1680]\tvalidation_0-auc:0.999398\tvalidation_1-auc:0.95429\n",
            "[1710]\tvalidation_0-auc:0.999436\tvalidation_1-auc:0.954249\n",
            "[1740]\tvalidation_0-auc:0.999476\tvalidation_1-auc:0.954258\n",
            "[1770]\tvalidation_0-auc:0.999515\tvalidation_1-auc:0.954295\n",
            "[1800]\tvalidation_0-auc:0.999547\tvalidation_1-auc:0.954241\n",
            "[1830]\tvalidation_0-auc:0.999578\tvalidation_1-auc:0.954287\n",
            "[1860]\tvalidation_0-auc:0.999614\tvalidation_1-auc:0.954294\n",
            "[1890]\tvalidation_0-auc:0.999642\tvalidation_1-auc:0.954314\n",
            "[1920]\tvalidation_0-auc:0.999669\tvalidation_1-auc:0.954279\n",
            "[1950]\tvalidation_0-auc:0.999689\tvalidation_1-auc:0.954272\n",
            "[1980]\tvalidation_0-auc:0.999715\tvalidation_1-auc:0.954284\n",
            "[2010]\tvalidation_0-auc:0.999733\tvalidation_1-auc:0.954221\n",
            "Stopping. Best iteration:\n",
            "[1518]\tvalidation_0-auc:0.999108\tvalidation_1-auc:0.954391\n",
            "\n",
            "0.9543906599755033\n",
            "[0]\tvalidation_0-auc:0.879481\tvalidation_1-auc:0.871523\n",
            "Multiple eval metrics have been passed: 'validation_1-auc' will be used for early stopping.\n",
            "\n",
            "Will train until validation_1-auc hasn't improved in 500 rounds.\n",
            "[30]\tvalidation_0-auc:0.912044\tvalidation_1-auc:0.908503\n",
            "[60]\tvalidation_0-auc:0.917428\tvalidation_1-auc:0.912241\n",
            "[90]\tvalidation_0-auc:0.923308\tvalidation_1-auc:0.915772\n",
            "[120]\tvalidation_0-auc:0.930152\tvalidation_1-auc:0.919856\n",
            "[150]\tvalidation_0-auc:0.936563\tvalidation_1-auc:0.923744\n",
            "[180]\tvalidation_0-auc:0.942783\tvalidation_1-auc:0.927635\n",
            "[210]\tvalidation_0-auc:0.94825\tvalidation_1-auc:0.930988\n",
            "[240]\tvalidation_0-auc:0.954846\tvalidation_1-auc:0.935682\n",
            "[270]\tvalidation_0-auc:0.960394\tvalidation_1-auc:0.938791\n",
            "[300]\tvalidation_0-auc:0.965429\tvalidation_1-auc:0.942203\n",
            "[330]\tvalidation_0-auc:0.970737\tvalidation_1-auc:0.945785\n",
            "[360]\tvalidation_0-auc:0.974841\tvalidation_1-auc:0.948719\n",
            "[390]\tvalidation_0-auc:0.978315\tvalidation_1-auc:0.951136\n",
            "[420]\tvalidation_0-auc:0.981252\tvalidation_1-auc:0.953024\n",
            "[450]\tvalidation_0-auc:0.983663\tvalidation_1-auc:0.954752\n",
            "[480]\tvalidation_0-auc:0.985645\tvalidation_1-auc:0.956168\n",
            "[510]\tvalidation_0-auc:0.987406\tvalidation_1-auc:0.957512\n",
            "[540]\tvalidation_0-auc:0.988839\tvalidation_1-auc:0.958712\n",
            "[570]\tvalidation_0-auc:0.990091\tvalidation_1-auc:0.959748\n",
            "[600]\tvalidation_0-auc:0.991034\tvalidation_1-auc:0.960607\n",
            "[630]\tvalidation_0-auc:0.991799\tvalidation_1-auc:0.961299\n",
            "[660]\tvalidation_0-auc:0.992488\tvalidation_1-auc:0.961957\n",
            "[690]\tvalidation_0-auc:0.993163\tvalidation_1-auc:0.962642\n",
            "[720]\tvalidation_0-auc:0.993728\tvalidation_1-auc:0.963226\n",
            "[750]\tvalidation_0-auc:0.994201\tvalidation_1-auc:0.963614\n",
            "[780]\tvalidation_0-auc:0.994593\tvalidation_1-auc:0.964017\n",
            "[810]\tvalidation_0-auc:0.99495\tvalidation_1-auc:0.964378\n",
            "[840]\tvalidation_0-auc:0.995346\tvalidation_1-auc:0.964772\n",
            "[870]\tvalidation_0-auc:0.995711\tvalidation_1-auc:0.965174\n",
            "[900]\tvalidation_0-auc:0.996012\tvalidation_1-auc:0.965362\n",
            "[930]\tvalidation_0-auc:0.996252\tvalidation_1-auc:0.965506\n",
            "[960]\tvalidation_0-auc:0.996495\tvalidation_1-auc:0.965735\n",
            "[990]\tvalidation_0-auc:0.99674\tvalidation_1-auc:0.965898\n",
            "[1020]\tvalidation_0-auc:0.996949\tvalidation_1-auc:0.966073\n",
            "[1050]\tvalidation_0-auc:0.997138\tvalidation_1-auc:0.966219\n",
            "[1080]\tvalidation_0-auc:0.997322\tvalidation_1-auc:0.966309\n",
            "[1110]\tvalidation_0-auc:0.997482\tvalidation_1-auc:0.966411\n",
            "[1140]\tvalidation_0-auc:0.997675\tvalidation_1-auc:0.966548\n",
            "[1170]\tvalidation_0-auc:0.997829\tvalidation_1-auc:0.966581\n",
            "[1200]\tvalidation_0-auc:0.99797\tvalidation_1-auc:0.966693\n",
            "[1230]\tvalidation_0-auc:0.998087\tvalidation_1-auc:0.966778\n",
            "[1260]\tvalidation_0-auc:0.998216\tvalidation_1-auc:0.966874\n",
            "[1290]\tvalidation_0-auc:0.998354\tvalidation_1-auc:0.966913\n",
            "[1320]\tvalidation_0-auc:0.998459\tvalidation_1-auc:0.966948\n",
            "[1350]\tvalidation_0-auc:0.998571\tvalidation_1-auc:0.967009\n",
            "[1380]\tvalidation_0-auc:0.998673\tvalidation_1-auc:0.967058\n",
            "[1410]\tvalidation_0-auc:0.998769\tvalidation_1-auc:0.967122\n",
            "[1440]\tvalidation_0-auc:0.998848\tvalidation_1-auc:0.96721\n",
            "[1470]\tvalidation_0-auc:0.998926\tvalidation_1-auc:0.967217\n",
            "[1500]\tvalidation_0-auc:0.998995\tvalidation_1-auc:0.967253\n",
            "[1530]\tvalidation_0-auc:0.999055\tvalidation_1-auc:0.967277\n",
            "[1560]\tvalidation_0-auc:0.999116\tvalidation_1-auc:0.967312\n",
            "[1590]\tvalidation_0-auc:0.999175\tvalidation_1-auc:0.967337\n",
            "[1620]\tvalidation_0-auc:0.999232\tvalidation_1-auc:0.967339\n",
            "[1650]\tvalidation_0-auc:0.999297\tvalidation_1-auc:0.967395\n",
            "[1680]\tvalidation_0-auc:0.999346\tvalidation_1-auc:0.9674\n",
            "[1710]\tvalidation_0-auc:0.999394\tvalidation_1-auc:0.967441\n",
            "[1740]\tvalidation_0-auc:0.999437\tvalidation_1-auc:0.967484\n",
            "[1770]\tvalidation_0-auc:0.999482\tvalidation_1-auc:0.967494\n",
            "[1800]\tvalidation_0-auc:0.999516\tvalidation_1-auc:0.967495\n",
            "[1830]\tvalidation_0-auc:0.99955\tvalidation_1-auc:0.96752\n",
            "[1860]\tvalidation_0-auc:0.999584\tvalidation_1-auc:0.967528\n",
            "[1890]\tvalidation_0-auc:0.999614\tvalidation_1-auc:0.967577\n",
            "[1920]\tvalidation_0-auc:0.999643\tvalidation_1-auc:0.967582\n",
            "[1950]\tvalidation_0-auc:0.999665\tvalidation_1-auc:0.967563\n",
            "[1980]\tvalidation_0-auc:0.999687\tvalidation_1-auc:0.967522\n",
            "[2010]\tvalidation_0-auc:0.999707\tvalidation_1-auc:0.967539\n",
            "[2040]\tvalidation_0-auc:0.999727\tvalidation_1-auc:0.967572\n",
            "[2070]\tvalidation_0-auc:0.999746\tvalidation_1-auc:0.967546\n",
            "[2100]\tvalidation_0-auc:0.999764\tvalidation_1-auc:0.967564\n",
            "[2130]\tvalidation_0-auc:0.999784\tvalidation_1-auc:0.96758\n",
            "[2160]\tvalidation_0-auc:0.999801\tvalidation_1-auc:0.967586\n",
            "[2190]\tvalidation_0-auc:0.999815\tvalidation_1-auc:0.967564\n",
            "[2220]\tvalidation_0-auc:0.999828\tvalidation_1-auc:0.967532\n",
            "[2250]\tvalidation_0-auc:0.999841\tvalidation_1-auc:0.967473\n",
            "[2280]\tvalidation_0-auc:0.999854\tvalidation_1-auc:0.967499\n",
            "[2310]\tvalidation_0-auc:0.999865\tvalidation_1-auc:0.967513\n",
            "[2340]\tvalidation_0-auc:0.999874\tvalidation_1-auc:0.967487\n",
            "[2370]\tvalidation_0-auc:0.999882\tvalidation_1-auc:0.967447\n",
            "[2400]\tvalidation_0-auc:0.99989\tvalidation_1-auc:0.967419\n",
            "Stopping. Best iteration:\n",
            "[1905]\tvalidation_0-auc:0.999627\tvalidation_1-auc:0.967602\n",
            "\n",
            "0.9676016666405933\n",
            "[0]\tvalidation_0-auc:0.885845\tvalidation_1-auc:0.847801\n",
            "Multiple eval metrics have been passed: 'validation_1-auc' will be used for early stopping.\n",
            "\n",
            "Will train until validation_1-auc hasn't improved in 500 rounds.\n",
            "[30]\tvalidation_0-auc:0.91425\tvalidation_1-auc:0.881078\n",
            "[60]\tvalidation_0-auc:0.92081\tvalidation_1-auc:0.885895\n",
            "[90]\tvalidation_0-auc:0.927682\tvalidation_1-auc:0.890201\n",
            "[120]\tvalidation_0-auc:0.934367\tvalidation_1-auc:0.894009\n",
            "[150]\tvalidation_0-auc:0.941098\tvalidation_1-auc:0.898562\n",
            "[180]\tvalidation_0-auc:0.946826\tvalidation_1-auc:0.902015\n",
            "[210]\tvalidation_0-auc:0.951917\tvalidation_1-auc:0.905628\n",
            "[240]\tvalidation_0-auc:0.958175\tvalidation_1-auc:0.910038\n",
            "[270]\tvalidation_0-auc:0.963655\tvalidation_1-auc:0.913594\n",
            "[300]\tvalidation_0-auc:0.969079\tvalidation_1-auc:0.917544\n",
            "[330]\tvalidation_0-auc:0.973696\tvalidation_1-auc:0.920795\n",
            "[360]\tvalidation_0-auc:0.977164\tvalidation_1-auc:0.923451\n",
            "[390]\tvalidation_0-auc:0.980087\tvalidation_1-auc:0.925848\n",
            "[420]\tvalidation_0-auc:0.98272\tvalidation_1-auc:0.928027\n",
            "[450]\tvalidation_0-auc:0.98487\tvalidation_1-auc:0.929559\n",
            "[480]\tvalidation_0-auc:0.986715\tvalidation_1-auc:0.930966\n",
            "[510]\tvalidation_0-auc:0.988297\tvalidation_1-auc:0.932575\n",
            "[540]\tvalidation_0-auc:0.989646\tvalidation_1-auc:0.933783\n",
            "[570]\tvalidation_0-auc:0.990798\tvalidation_1-auc:0.935082\n",
            "[600]\tvalidation_0-auc:0.991739\tvalidation_1-auc:0.936021\n",
            "[630]\tvalidation_0-auc:0.99255\tvalidation_1-auc:0.937026\n",
            "[660]\tvalidation_0-auc:0.993275\tvalidation_1-auc:0.937834\n",
            "[690]\tvalidation_0-auc:0.993833\tvalidation_1-auc:0.938458\n",
            "[720]\tvalidation_0-auc:0.994308\tvalidation_1-auc:0.939121\n",
            "[750]\tvalidation_0-auc:0.994706\tvalidation_1-auc:0.9397\n",
            "[780]\tvalidation_0-auc:0.995099\tvalidation_1-auc:0.940197\n",
            "[810]\tvalidation_0-auc:0.995444\tvalidation_1-auc:0.940612\n",
            "[840]\tvalidation_0-auc:0.995782\tvalidation_1-auc:0.941051\n",
            "[870]\tvalidation_0-auc:0.996114\tvalidation_1-auc:0.941309\n",
            "[900]\tvalidation_0-auc:0.996385\tvalidation_1-auc:0.941627\n",
            "[930]\tvalidation_0-auc:0.996598\tvalidation_1-auc:0.941875\n",
            "[960]\tvalidation_0-auc:0.996829\tvalidation_1-auc:0.942145\n",
            "[990]\tvalidation_0-auc:0.99704\tvalidation_1-auc:0.942424\n",
            "[1020]\tvalidation_0-auc:0.997248\tvalidation_1-auc:0.9427\n",
            "[1050]\tvalidation_0-auc:0.997432\tvalidation_1-auc:0.942878\n",
            "[1080]\tvalidation_0-auc:0.997587\tvalidation_1-auc:0.943129\n",
            "[1110]\tvalidation_0-auc:0.997732\tvalidation_1-auc:0.943275\n",
            "[1140]\tvalidation_0-auc:0.99788\tvalidation_1-auc:0.943403\n",
            "[1170]\tvalidation_0-auc:0.998038\tvalidation_1-auc:0.94356\n",
            "[1200]\tvalidation_0-auc:0.998199\tvalidation_1-auc:0.943748\n",
            "[1230]\tvalidation_0-auc:0.998308\tvalidation_1-auc:0.943831\n",
            "[1260]\tvalidation_0-auc:0.998422\tvalidation_1-auc:0.944017\n",
            "[1290]\tvalidation_0-auc:0.998527\tvalidation_1-auc:0.944189\n",
            "[1320]\tvalidation_0-auc:0.998639\tvalidation_1-auc:0.944331\n",
            "[1350]\tvalidation_0-auc:0.998735\tvalidation_1-auc:0.944494\n",
            "[1380]\tvalidation_0-auc:0.998816\tvalidation_1-auc:0.944528\n",
            "[1410]\tvalidation_0-auc:0.998895\tvalidation_1-auc:0.944678\n",
            "[1440]\tvalidation_0-auc:0.998972\tvalidation_1-auc:0.94472\n",
            "[1470]\tvalidation_0-auc:0.999043\tvalidation_1-auc:0.944845\n",
            "[1500]\tvalidation_0-auc:0.999106\tvalidation_1-auc:0.94495\n",
            "[1530]\tvalidation_0-auc:0.999167\tvalidation_1-auc:0.945003\n",
            "[1560]\tvalidation_0-auc:0.999226\tvalidation_1-auc:0.945145\n",
            "[1590]\tvalidation_0-auc:0.999274\tvalidation_1-auc:0.945247\n",
            "[1620]\tvalidation_0-auc:0.999323\tvalidation_1-auc:0.945249\n",
            "[1650]\tvalidation_0-auc:0.99937\tvalidation_1-auc:0.945295\n",
            "[1680]\tvalidation_0-auc:0.999415\tvalidation_1-auc:0.945449\n",
            "[1710]\tvalidation_0-auc:0.999456\tvalidation_1-auc:0.945523\n",
            "[1740]\tvalidation_0-auc:0.999493\tvalidation_1-auc:0.94557\n",
            "[1770]\tvalidation_0-auc:0.999529\tvalidation_1-auc:0.945632\n",
            "[1800]\tvalidation_0-auc:0.999567\tvalidation_1-auc:0.945665\n",
            "[1830]\tvalidation_0-auc:0.999593\tvalidation_1-auc:0.945643\n",
            "[1860]\tvalidation_0-auc:0.999622\tvalidation_1-auc:0.945647\n",
            "[1890]\tvalidation_0-auc:0.999653\tvalidation_1-auc:0.945718\n",
            "[1920]\tvalidation_0-auc:0.999682\tvalidation_1-auc:0.945844\n",
            "[1950]\tvalidation_0-auc:0.999703\tvalidation_1-auc:0.945852\n",
            "[1980]\tvalidation_0-auc:0.999726\tvalidation_1-auc:0.945879\n",
            "[2010]\tvalidation_0-auc:0.999746\tvalidation_1-auc:0.945903\n",
            "[2040]\tvalidation_0-auc:0.999764\tvalidation_1-auc:0.945922\n",
            "[2070]\tvalidation_0-auc:0.999779\tvalidation_1-auc:0.94596\n",
            "[2100]\tvalidation_0-auc:0.999793\tvalidation_1-auc:0.945994\n",
            "[2130]\tvalidation_0-auc:0.999811\tvalidation_1-auc:0.946058\n",
            "[2160]\tvalidation_0-auc:0.999825\tvalidation_1-auc:0.946064\n",
            "[2190]\tvalidation_0-auc:0.999838\tvalidation_1-auc:0.946037\n",
            "[2220]\tvalidation_0-auc:0.99985\tvalidation_1-auc:0.946018\n",
            "[2250]\tvalidation_0-auc:0.999863\tvalidation_1-auc:0.946097\n",
            "[2280]\tvalidation_0-auc:0.999874\tvalidation_1-auc:0.946103\n",
            "[2310]\tvalidation_0-auc:0.999883\tvalidation_1-auc:0.946172\n",
            "[2340]\tvalidation_0-auc:0.999892\tvalidation_1-auc:0.94623\n",
            "[2370]\tvalidation_0-auc:0.9999\tvalidation_1-auc:0.946221\n",
            "[2400]\tvalidation_0-auc:0.999909\tvalidation_1-auc:0.946265\n",
            "[2430]\tvalidation_0-auc:0.999917\tvalidation_1-auc:0.946285\n",
            "[2460]\tvalidation_0-auc:0.999924\tvalidation_1-auc:0.946331\n",
            "[2490]\tvalidation_0-auc:0.99993\tvalidation_1-auc:0.946373\n",
            "[2520]\tvalidation_0-auc:0.999935\tvalidation_1-auc:0.946319\n",
            "[2550]\tvalidation_0-auc:0.999941\tvalidation_1-auc:0.946359\n",
            "[2580]\tvalidation_0-auc:0.999945\tvalidation_1-auc:0.946392\n",
            "[2610]\tvalidation_0-auc:0.99995\tvalidation_1-auc:0.946442\n",
            "[2640]\tvalidation_0-auc:0.999954\tvalidation_1-auc:0.946467\n",
            "[2670]\tvalidation_0-auc:0.999957\tvalidation_1-auc:0.94648\n",
            "[2700]\tvalidation_0-auc:0.999961\tvalidation_1-auc:0.946489\n",
            "[2730]\tvalidation_0-auc:0.999964\tvalidation_1-auc:0.946549\n",
            "[2760]\tvalidation_0-auc:0.999967\tvalidation_1-auc:0.946561\n",
            "[2790]\tvalidation_0-auc:0.99997\tvalidation_1-auc:0.946568\n",
            "[2820]\tvalidation_0-auc:0.999972\tvalidation_1-auc:0.946618\n",
            "[2850]\tvalidation_0-auc:0.999974\tvalidation_1-auc:0.946603\n",
            "[2880]\tvalidation_0-auc:0.999976\tvalidation_1-auc:0.946586\n",
            "[2910]\tvalidation_0-auc:0.999978\tvalidation_1-auc:0.946627\n",
            "[2940]\tvalidation_0-auc:0.99998\tvalidation_1-auc:0.946637\n",
            "[2970]\tvalidation_0-auc:0.999981\tvalidation_1-auc:0.946614\n",
            "[3000]\tvalidation_0-auc:0.999983\tvalidation_1-auc:0.946593\n",
            "[3030]\tvalidation_0-auc:0.999984\tvalidation_1-auc:0.946597\n",
            "[3060]\tvalidation_0-auc:0.999985\tvalidation_1-auc:0.946617\n",
            "[3090]\tvalidation_0-auc:0.999986\tvalidation_1-auc:0.946635\n",
            "[3120]\tvalidation_0-auc:0.999988\tvalidation_1-auc:0.946625\n",
            "[3150]\tvalidation_0-auc:0.999989\tvalidation_1-auc:0.946601\n",
            "[3180]\tvalidation_0-auc:0.99999\tvalidation_1-auc:0.946615\n",
            "[3210]\tvalidation_0-auc:0.99999\tvalidation_1-auc:0.946584\n",
            "[3240]\tvalidation_0-auc:0.999991\tvalidation_1-auc:0.946628\n",
            "[3270]\tvalidation_0-auc:0.999992\tvalidation_1-auc:0.946681\n",
            "[3300]\tvalidation_0-auc:0.999992\tvalidation_1-auc:0.946679\n",
            "[3330]\tvalidation_0-auc:0.999993\tvalidation_1-auc:0.946688\n",
            "[3360]\tvalidation_0-auc:0.999994\tvalidation_1-auc:0.946658\n",
            "[3390]\tvalidation_0-auc:0.999994\tvalidation_1-auc:0.946654\n",
            "[3420]\tvalidation_0-auc:0.999995\tvalidation_1-auc:0.946688\n",
            "[3450]\tvalidation_0-auc:0.999995\tvalidation_1-auc:0.94667\n",
            "[3480]\tvalidation_0-auc:0.999996\tvalidation_1-auc:0.946676\n",
            "[3510]\tvalidation_0-auc:0.999996\tvalidation_1-auc:0.946653\n",
            "[3540]\tvalidation_0-auc:0.999996\tvalidation_1-auc:0.946618\n",
            "[3570]\tvalidation_0-auc:0.999997\tvalidation_1-auc:0.946562\n",
            "[3600]\tvalidation_0-auc:0.999997\tvalidation_1-auc:0.946536\n",
            "[3630]\tvalidation_0-auc:0.999997\tvalidation_1-auc:0.946584\n",
            "[3660]\tvalidation_0-auc:0.999998\tvalidation_1-auc:0.946543\n",
            "[3690]\tvalidation_0-auc:0.999998\tvalidation_1-auc:0.946554\n",
            "[3720]\tvalidation_0-auc:0.999998\tvalidation_1-auc:0.946587\n",
            "[3750]\tvalidation_0-auc:0.999998\tvalidation_1-auc:0.946579\n",
            "[3780]\tvalidation_0-auc:0.999998\tvalidation_1-auc:0.946603\n",
            "[3810]\tvalidation_0-auc:0.999998\tvalidation_1-auc:0.946635\n",
            "[3840]\tvalidation_0-auc:0.999999\tvalidation_1-auc:0.946625\n",
            "[3870]\tvalidation_0-auc:0.999999\tvalidation_1-auc:0.946614\n",
            "[3900]\tvalidation_0-auc:0.999999\tvalidation_1-auc:0.946647\n",
            "Stopping. Best iteration:\n",
            "[3405]\tvalidation_0-auc:0.999995\tvalidation_1-auc:0.946706\n",
            "\n",
            "0.9467054937025963\n",
            "End:0.95364399972347\n"
          ],
          "name": "stdout"
        }
      ]
    },
    {
      "cell_type": "markdown",
      "metadata": {
        "id": "2w3z0USjWzBM",
        "colab_type": "text"
      },
      "source": [
        "#### XGBoost Submission"
      ]
    },
    {
      "cell_type": "code",
      "metadata": {
        "id": "0edo-J-0paCl",
        "colab_type": "code",
        "colab": {}
      },
      "source": [
        "result = pd.read_csv(f'{folder_path}sample_submission.csv')\n",
        "result['isFraud'] = y_pred\n",
        "result.to_csv(f'{folder_path}xgb.csv',index=False)\n",
        "\n",
        "df = pd.DataFrame()\n",
        "df['train'] = stack_train\n",
        "df.to_csv(f'{folder_path}xgb_train.csv',index=False)"
      ],
      "execution_count": 0,
      "outputs": []
    },
    {
      "cell_type": "markdown",
      "metadata": {
        "id": "qPGZwi11WpZ_",
        "colab_type": "text"
      },
      "source": [
        "#### Leaderboard Score\n",
        "- **Public Score** : 0.960077 \n",
        "- **Private Score** : 0.935508"
      ]
    },
    {
      "cell_type": "markdown",
      "metadata": {
        "id": "yRnBaCL2qK77",
        "colab_type": "text"
      },
      "source": [
        "### CatBoost"
      ]
    },
    {
      "cell_type": "code",
      "metadata": {
        "id": "3idnuP_kqPTW",
        "colab_type": "code",
        "colab": {}
      },
      "source": [
        "## Memory Reducer\n",
        "# :df pandas dataframe to reduce size             \n",
        "# type: pd.DataFrame()\n",
        "# :verbose                                        \n",
        "# type: bool\n",
        "def reduce_mem_usage(df, verbose=True):\n",
        "    numerics = ['int16', 'int32', 'int64', 'float16', 'float32', 'float64']\n",
        "    start_mem = df.memory_usage().sum() / 1024**2    \n",
        "    for col in df.columns:\n",
        "        col_type = df[col].dtypes\n",
        "        if col_type in numerics:\n",
        "            c_min = df[col].min()\n",
        "            c_max = df[col].max()\n",
        "            if str(col_type)[:3] == 'int':\n",
        "                if c_min > np.iinfo(np.int8).min and c_max < np.iinfo(np.int8).max:\n",
        "                    df[col] = df[col].astype(np.int8)\n",
        "                elif c_min > np.iinfo(np.int16).min and c_max < np.iinfo(np.int16).max:\n",
        "                    df[col] = df[col].astype(np.int16)\n",
        "                elif c_min > np.iinfo(np.int32).min and c_max < np.iinfo(np.int32).max:\n",
        "                    df[col] = df[col].astype(np.int32)\n",
        "                elif c_min > np.iinfo(np.int64).min and c_max < np.iinfo(np.int64).max:\n",
        "                    df[col] = df[col].astype(np.int64)  \n",
        "            else:\n",
        "                if c_min > np.finfo(np.float16).min and c_max < np.finfo(np.float16).max:\n",
        "                    df[col] = df[col].astype(np.float16)\n",
        "                elif c_min > np.finfo(np.float32).min and c_max < np.finfo(np.float32).max:\n",
        "                    df[col] = df[col].astype(np.float32)\n",
        "                else:\n",
        "                    df[col] = df[col].astype(np.float64)    \n",
        "    end_mem = df.memory_usage().sum() / 1024**2\n",
        "    if verbose: print('Mem. usage decreased to {:5.2f} Mb ({:.1f}% reduction)'.format(end_mem, 100 * (start_mem - end_mem) / start_mem))\n",
        "    return df"
      ],
      "execution_count": 0,
      "outputs": []
    },
    {
      "cell_type": "code",
      "metadata": {
        "id": "TJMAg72EZb3M",
        "colab_type": "code",
        "outputId": "19e3b555-2a75-4e7d-8b9d-a971cce2ce26",
        "colab": {
          "base_uri": "https://localhost:8080/",
          "height": 68
        }
      },
      "source": [
        "%%time\n",
        "X_train = reduce_mem_usage(X_train)"
      ],
      "execution_count": 0,
      "outputs": [
        {
          "output_type": "stream",
          "text": [
            "Mem. usage decreased to 472.51 Mb (70.8% reduction)\n",
            "CPU times: user 59.8 s, sys: 1.86 s, total: 1min 1s\n",
            "Wall time: 1min 1s\n"
          ],
          "name": "stdout"
        }
      ]
    },
    {
      "cell_type": "code",
      "metadata": {
        "id": "IPh-wVhNaMcd",
        "colab_type": "code",
        "outputId": "426859f5-0d6e-4eb4-c016-1e514e155a8e",
        "colab": {
          "base_uri": "https://localhost:8080/",
          "height": 1000
        }
      },
      "source": [
        "cat = list(set(cat) & set(X_train.columns))\n",
        "\n",
        "kf=KFold(n_splits = 5)\n",
        "resu1 = 0\n",
        "impor1 = 0\n",
        "y_pred = 0\n",
        "stack_train = np.zeros([X_train.shape[0],])\n",
        "\n",
        "for train_index, test_index in kf.split(X_train, y_train):\n",
        "  X_train = pd.read_pickle(f'{folder_path}X_train2.pkl')\n",
        "  X_train = reduce_mem_usage(X_train, verbose=False)\n",
        "  X_train2= X_train.iloc[train_index,:]\n",
        "  y_train2= y_train.iloc[train_index]\n",
        "  X_test2= X_train.iloc[test_index,:]\n",
        "  y_test2= y_train.iloc[test_index]\n",
        "  \n",
        "  del X_train\n",
        "  print('check1')\n",
        "  clf = cb.CatBoostClassifier(n_estimators=100000, random_state=0, learning_rate= 0.1, depth=10, cat_features = cat,task_type = 'GPU', \n",
        "                              early_stopping_rounds = 400, eval_metric='AUC', border_count = 254, l2_leaf_reg=2)\n",
        "  clf.fit(X_train2,y_train2,eval_set = (X_test2,y_test2),verbose=100)\n",
        "  del X_train2,y_train2\n",
        "    \n",
        "  print('check2')\n",
        "  temp_predict = clf.predict_proba(X_test2)[:,1]\n",
        "  roc = roc_auc_score(y_test2, temp_predict)\n",
        "  stack_train[test_index] = temp_predict\n",
        "  print(roc)\n",
        "  del X_test2,y_test2\n",
        "    \n",
        "  print('check3')\n",
        "  X_test = pd.read_pickle(f'{folder_path}X_test2.pkl')\n",
        "  X_test = reduce_mem_usage(X_test, verbose=False)\n",
        "  y_pred += clf.predict_proba(X_test)[:,1]/5\n",
        "  del X_test\n",
        "    \n",
        "  print('check4')\n",
        "  resu1 += roc/5\n",
        "  impor1 += clf.feature_importances_/5\n",
        "  gc.collect()\n",
        "print(f'End:{resu1}')"
      ],
      "execution_count": 0,
      "outputs": [
        {
          "output_type": "stream",
          "text": [
            "check1\n",
            "0:\tlearn: 0.9379492\ttest: 0.8060459\tbest: 0.8060459 (0)\ttotal: 380ms\tremaining: 10h 33m 42s\n",
            "100:\tlearn: 0.9777111\ttest: 0.9188544\tbest: 0.9188544 (100)\ttotal: 32.6s\tremaining: 8h 57m 34s\n",
            "200:\tlearn: 0.9810066\ttest: 0.9292215\tbest: 0.9292215 (200)\ttotal: 1m 4s\tremaining: 8h 49m 56s\n",
            "300:\tlearn: 0.9826686\ttest: 0.9346927\tbest: 0.9346927 (300)\ttotal: 1m 37s\tremaining: 8h 56m 28s\n",
            "400:\tlearn: 0.9840226\ttest: 0.9373827\tbest: 0.9373827 (400)\ttotal: 2m 11s\tremaining: 9h 2m 39s\n",
            "500:\tlearn: 0.9850076\ttest: 0.9397984\tbest: 0.9397994 (499)\ttotal: 2m 45s\tremaining: 9h 7m 42s\n",
            "600:\tlearn: 0.9860656\ttest: 0.9417983\tbest: 0.9417983 (600)\ttotal: 3m 19s\tremaining: 9h 11m 15s\n",
            "700:\tlearn: 0.9869076\ttest: 0.9429507\tbest: 0.9429507 (700)\ttotal: 3m 54s\tremaining: 9h 13m 49s\n",
            "800:\tlearn: 0.9876130\ttest: 0.9438992\tbest: 0.9439011 (798)\ttotal: 4m 29s\tremaining: 9h 15m 44s\n",
            "900:\tlearn: 0.9884595\ttest: 0.9450224\tbest: 0.9450337 (898)\ttotal: 5m 3s\tremaining: 9h 17m 4s\n",
            "1000:\tlearn: 0.9890797\ttest: 0.9454059\tbest: 0.9454319 (995)\ttotal: 5m 38s\tremaining: 9h 18m 34s\n",
            "1100:\tlearn: 0.9897655\ttest: 0.9459916\tbest: 0.9460192 (1082)\ttotal: 6m 13s\tremaining: 9h 19m 29s\n",
            "1200:\tlearn: 0.9903882\ttest: 0.9464661\tbest: 0.9464782 (1199)\ttotal: 6m 48s\tremaining: 9h 20m 4s\n",
            "1300:\tlearn: 0.9909379\ttest: 0.9473439\tbest: 0.9473439 (1300)\ttotal: 7m 22s\tremaining: 9h 19m 39s\n",
            "1400:\tlearn: 0.9915433\ttest: 0.9477786\tbest: 0.9477933 (1390)\ttotal: 7m 58s\tremaining: 9h 20m 55s\n",
            "1500:\tlearn: 0.9920539\ttest: 0.9482229\tbest: 0.9482462 (1483)\ttotal: 8m 33s\tremaining: 9h 21m 30s\n",
            "1600:\tlearn: 0.9925205\ttest: 0.9484521\tbest: 0.9485666 (1583)\ttotal: 9m 8s\tremaining: 9h 21m 51s\n",
            "1700:\tlearn: 0.9929765\ttest: 0.9486894\tbest: 0.9486915 (1657)\ttotal: 9m 42s\tremaining: 9h 21m 24s\n",
            "1800:\tlearn: 0.9934662\ttest: 0.9489580\tbest: 0.9489580 (1800)\ttotal: 10m 18s\tremaining: 9h 21m 36s\n",
            "1900:\tlearn: 0.9939438\ttest: 0.9491349\tbest: 0.9491563 (1883)\ttotal: 10m 53s\tremaining: 9h 22m 11s\n",
            "2000:\tlearn: 0.9944059\ttest: 0.9493600\tbest: 0.9494035 (1997)\ttotal: 11m 29s\tremaining: 9h 22m 29s\n",
            "2100:\tlearn: 0.9947965\ttest: 0.9495483\tbest: 0.9496469 (2084)\ttotal: 12m 3s\tremaining: 9h 22m 4s\n",
            "2200:\tlearn: 0.9952424\ttest: 0.9496530\tbest: 0.9496628 (2133)\ttotal: 12m 38s\tremaining: 9h 22m 1s\n",
            "2300:\tlearn: 0.9956087\ttest: 0.9496737\tbest: 0.9497973 (2279)\ttotal: 13m 13s\tremaining: 9h 21m 28s\n",
            "2400:\tlearn: 0.9959098\ttest: 0.9498014\tbest: 0.9498527 (2331)\ttotal: 13m 48s\tremaining: 9h 21m 6s\n",
            "2500:\tlearn: 0.9962262\ttest: 0.9498038\tbest: 0.9499088 (2410)\ttotal: 14m 23s\tremaining: 9h 20m 53s\n",
            "2600:\tlearn: 0.9965226\ttest: 0.9502287\tbest: 0.9502515 (2586)\ttotal: 14m 58s\tremaining: 9h 20m 46s\n",
            "2700:\tlearn: 0.9967890\ttest: 0.9502580\tbest: 0.9504068 (2648)\ttotal: 15m 33s\tremaining: 9h 20m 27s\n",
            "2800:\tlearn: 0.9970725\ttest: 0.9501886\tbest: 0.9504068 (2648)\ttotal: 16m 8s\tremaining: 9h 20m 9s\n",
            "2900:\tlearn: 0.9973154\ttest: 0.9502951\tbest: 0.9504068 (2648)\ttotal: 16m 43s\tremaining: 9h 19m 57s\n",
            "3000:\tlearn: 0.9975640\ttest: 0.9503440\tbest: 0.9504068 (2648)\ttotal: 17m 18s\tremaining: 9h 19m 42s\n",
            "bestTest = 0.9504068494\n",
            "bestIteration = 2648\n",
            "Shrink model to first 2649 iterations.\n",
            "check2\n",
            "0.9504068628510858\n",
            "check3\n",
            "check4\n",
            "check1\n",
            "0:\tlearn: 0.9297784\ttest: 0.8875219\tbest: 0.8875219 (0)\ttotal: 359ms\tremaining: 9h 59m 3s\n",
            "100:\tlearn: 0.9740717\ttest: 0.9452311\tbest: 0.9452311 (100)\ttotal: 32.4s\tremaining: 8h 54m 35s\n",
            "200:\tlearn: 0.9783643\ttest: 0.9521752\tbest: 0.9521844 (199)\ttotal: 1m 4s\tremaining: 8h 55m 9s\n",
            "300:\tlearn: 0.9801915\ttest: 0.9543933\tbest: 0.9543933 (300)\ttotal: 1m 38s\tremaining: 9h 3m 20s\n",
            "400:\tlearn: 0.9816835\ttest: 0.9560380\tbest: 0.9560380 (400)\ttotal: 2m 12s\tremaining: 9h 10m 25s\n",
            "500:\tlearn: 0.9829106\ttest: 0.9572241\tbest: 0.9572241 (500)\ttotal: 2m 47s\tremaining: 9h 13m 46s\n",
            "600:\tlearn: 0.9840049\ttest: 0.9581911\tbest: 0.9582186 (599)\ttotal: 3m 22s\tremaining: 9h 17m 5s\n",
            "700:\tlearn: 0.9849415\ttest: 0.9587988\tbest: 0.9587988 (700)\ttotal: 3m 56s\tremaining: 9h 18m 13s\n",
            "800:\tlearn: 0.9857587\ttest: 0.9594022\tbest: 0.9594022 (800)\ttotal: 4m 30s\tremaining: 9h 18m 44s\n",
            "900:\tlearn: 0.9866624\ttest: 0.9598611\tbest: 0.9598611 (900)\ttotal: 5m 6s\tremaining: 9h 21m 19s\n",
            "1000:\tlearn: 0.9874383\ttest: 0.9603094\tbest: 0.9603094 (1000)\ttotal: 5m 41s\tremaining: 9h 22m 8s\n",
            "1100:\tlearn: 0.9881480\ttest: 0.9606345\tbest: 0.9606394 (1099)\ttotal: 6m 15s\tremaining: 9h 22m 51s\n",
            "1200:\tlearn: 0.9889128\ttest: 0.9608242\tbest: 0.9609063 (1188)\ttotal: 6m 50s\tremaining: 9h 23m 26s\n",
            "1300:\tlearn: 0.9895612\ttest: 0.9612139\tbest: 0.9612339 (1270)\ttotal: 7m 25s\tremaining: 9h 23m 23s\n",
            "1400:\tlearn: 0.9901560\ttest: 0.9613502\tbest: 0.9613547 (1399)\ttotal: 8m\tremaining: 9h 23m 52s\n",
            "1500:\tlearn: 0.9908603\ttest: 0.9616212\tbest: 0.9616212 (1500)\ttotal: 8m 35s\tremaining: 9h 23m 41s\n",
            "1600:\tlearn: 0.9914343\ttest: 0.9617636\tbest: 0.9618295 (1569)\ttotal: 9m 9s\tremaining: 9h 22m 53s\n",
            "1700:\tlearn: 0.9919646\ttest: 0.9619208\tbest: 0.9619208 (1700)\ttotal: 9m 44s\tremaining: 9h 22m 37s\n",
            "1800:\tlearn: 0.9925160\ttest: 0.9621997\tbest: 0.9622178 (1789)\ttotal: 10m 19s\tremaining: 9h 22m 55s\n",
            "1900:\tlearn: 0.9930857\ttest: 0.9623797\tbest: 0.9623822 (1899)\ttotal: 10m 54s\tremaining: 9h 22m 34s\n",
            "2000:\tlearn: 0.9935901\ttest: 0.9623924\tbest: 0.9624465 (1958)\ttotal: 11m 29s\tremaining: 9h 22m 42s\n",
            "2100:\tlearn: 0.9941218\ttest: 0.9623030\tbest: 0.9624465 (1958)\ttotal: 12m 4s\tremaining: 9h 22m 42s\n",
            "2200:\tlearn: 0.9946441\ttest: 0.9625666\tbest: 0.9625759 (2195)\ttotal: 12m 40s\tremaining: 9h 23m 5s\n",
            "2300:\tlearn: 0.9949912\ttest: 0.9625850\tbest: 0.9625966 (2296)\ttotal: 13m 15s\tremaining: 9h 23m 3s\n",
            "2400:\tlearn: 0.9953450\ttest: 0.9624554\tbest: 0.9626970 (2346)\ttotal: 13m 49s\tremaining: 9h 22m 18s\n",
            "2500:\tlearn: 0.9956862\ttest: 0.9624349\tbest: 0.9626970 (2346)\ttotal: 14m 25s\tremaining: 9h 22m 15s\n",
            "2600:\tlearn: 0.9960150\ttest: 0.9624751\tbest: 0.9626970 (2346)\ttotal: 15m\tremaining: 9h 22m\n",
            "2700:\tlearn: 0.9963260\ttest: 0.9625673\tbest: 0.9626970 (2346)\ttotal: 15m 35s\tremaining: 9h 21m 49s\n",
            "bestTest = 0.9626970291\n",
            "bestIteration = 2346\n",
            "Shrink model to first 2347 iterations.\n",
            "check2\n",
            "0.9626969788242219\n",
            "check3\n",
            "check4\n",
            "check1\n",
            "0:\tlearn: 0.9179810\ttest: 0.8617249\tbest: 0.8617249 (0)\ttotal: 305ms\tremaining: 8h 28m 51s\n",
            "100:\tlearn: 0.9762529\ttest: 0.9492581\tbest: 0.9492581 (100)\ttotal: 32.5s\tremaining: 8h 55m 32s\n",
            "200:\tlearn: 0.9796183\ttest: 0.9548137\tbest: 0.9548137 (200)\ttotal: 1m 4s\tremaining: 8h 57m 5s\n",
            "300:\tlearn: 0.9813253\ttest: 0.9570749\tbest: 0.9570749 (300)\ttotal: 1m 38s\tremaining: 9h 3m 53s\n",
            "400:\tlearn: 0.9826682\ttest: 0.9585252\tbest: 0.9585252 (400)\ttotal: 2m 12s\tremaining: 9h 9m 33s\n",
            "500:\tlearn: 0.9839177\ttest: 0.9594616\tbest: 0.9594616 (500)\ttotal: 2m 47s\tremaining: 9h 14m 34s\n",
            "600:\tlearn: 0.9848635\ttest: 0.9598843\tbest: 0.9598843 (600)\ttotal: 3m 22s\tremaining: 9h 17m 46s\n",
            "700:\tlearn: 0.9856945\ttest: 0.9604386\tbest: 0.9604533 (695)\ttotal: 3m 56s\tremaining: 9h 17m 52s\n",
            "800:\tlearn: 0.9864847\ttest: 0.9609342\tbest: 0.9609342 (800)\ttotal: 4m 30s\tremaining: 9h 18m 53s\n",
            "900:\tlearn: 0.9871700\ttest: 0.9612098\tbest: 0.9612098 (900)\ttotal: 5m 6s\tremaining: 9h 20m 59s\n",
            "1000:\tlearn: 0.9878625\ttest: 0.9614344\tbest: 0.9614639 (951)\ttotal: 5m 41s\tremaining: 9h 22m 21s\n",
            "1100:\tlearn: 0.9885598\ttest: 0.9617131\tbest: 0.9617202 (1098)\ttotal: 6m 15s\tremaining: 9h 22m 52s\n",
            "1200:\tlearn: 0.9892352\ttest: 0.9619236\tbest: 0.9619236 (1200)\ttotal: 6m 50s\tremaining: 9h 22m 53s\n",
            "1300:\tlearn: 0.9898784\ttest: 0.9620646\tbest: 0.9620910 (1292)\ttotal: 7m 25s\tremaining: 9h 23m 13s\n",
            "1400:\tlearn: 0.9903716\ttest: 0.9621467\tbest: 0.9621769 (1373)\ttotal: 7m 59s\tremaining: 9h 22m 54s\n",
            "1500:\tlearn: 0.9909422\ttest: 0.9624270\tbest: 0.9624430 (1492)\ttotal: 8m 34s\tremaining: 9h 22m 46s\n",
            "1600:\tlearn: 0.9915231\ttest: 0.9625018\tbest: 0.9625350 (1594)\ttotal: 9m 9s\tremaining: 9h 23m 2s\n",
            "1700:\tlearn: 0.9920543\ttest: 0.9627385\tbest: 0.9627546 (1686)\ttotal: 9m 44s\tremaining: 9h 23m 24s\n",
            "1800:\tlearn: 0.9925472\ttest: 0.9628900\tbest: 0.9629087 (1754)\ttotal: 10m 19s\tremaining: 9h 23m 16s\n",
            "1900:\tlearn: 0.9930682\ttest: 0.9630576\tbest: 0.9630576 (1900)\ttotal: 10m 54s\tremaining: 9h 23m 4s\n",
            "2000:\tlearn: 0.9935498\ttest: 0.9629385\tbest: 0.9630671 (1903)\ttotal: 11m 29s\tremaining: 9h 22m 55s\n",
            "2100:\tlearn: 0.9939460\ttest: 0.9631333\tbest: 0.9631605 (2073)\ttotal: 12m 4s\tremaining: 9h 22m 52s\n",
            "2200:\tlearn: 0.9944472\ttest: 0.9630854\tbest: 0.9631605 (2073)\ttotal: 12m 40s\tremaining: 9h 23m\n",
            "2300:\tlearn: 0.9948851\ttest: 0.9631048\tbest: 0.9631605 (2073)\ttotal: 13m 15s\tremaining: 9h 22m 48s\n",
            "2400:\tlearn: 0.9952878\ttest: 0.9633458\tbest: 0.9633458 (2400)\ttotal: 13m 50s\tremaining: 9h 22m 45s\n",
            "2500:\tlearn: 0.9956568\ttest: 0.9634146\tbest: 0.9634146 (2500)\ttotal: 14m 25s\tremaining: 9h 22m 31s\n",
            "2600:\tlearn: 0.9959685\ttest: 0.9633898\tbest: 0.9634501 (2531)\ttotal: 15m\tremaining: 9h 22m 17s\n",
            "2700:\tlearn: 0.9962634\ttest: 0.9633026\tbest: 0.9634501 (2531)\ttotal: 15m 36s\tremaining: 9h 22m 3s\n",
            "2800:\tlearn: 0.9965460\ttest: 0.9632592\tbest: 0.9634501 (2531)\ttotal: 16m 11s\tremaining: 9h 21m 38s\n",
            "2900:\tlearn: 0.9968410\ttest: 0.9631898\tbest: 0.9634501 (2531)\ttotal: 16m 46s\tremaining: 9h 21m 41s\n",
            "bestTest = 0.9634501338\n",
            "bestIteration = 2531\n",
            "Shrink model to first 2532 iterations.\n",
            "check2\n",
            "0.9634501308336878\n",
            "check3\n",
            "check4\n",
            "check1\n",
            "0:\tlearn: 0.9206136\ttest: 0.8818786\tbest: 0.8818786 (0)\ttotal: 328ms\tremaining: 9h 7m 8s\n",
            "100:\tlearn: 0.9751651\ttest: 0.9597035\tbest: 0.9597035 (100)\ttotal: 32.9s\tremaining: 9h 1m 41s\n",
            "200:\tlearn: 0.9789459\ttest: 0.9646555\tbest: 0.9646593 (198)\ttotal: 1m 5s\tremaining: 9h 10s\n",
            "300:\tlearn: 0.9807249\ttest: 0.9664632\tbest: 0.9664632 (300)\ttotal: 1m 38s\tremaining: 9h 4m 11s\n",
            "400:\tlearn: 0.9822076\ttest: 0.9676393\tbest: 0.9676393 (400)\ttotal: 2m 13s\tremaining: 9h 11m 30s\n",
            "500:\tlearn: 0.9833967\ttest: 0.9685062\tbest: 0.9685062 (500)\ttotal: 2m 47s\tremaining: 9h 14m 41s\n",
            "600:\tlearn: 0.9845212\ttest: 0.9692069\tbest: 0.9692115 (599)\ttotal: 3m 22s\tremaining: 9h 18m 16s\n",
            "700:\tlearn: 0.9854152\ttest: 0.9695720\tbest: 0.9695720 (700)\ttotal: 3m 57s\tremaining: 9h 20m 22s\n",
            "800:\tlearn: 0.9861667\ttest: 0.9699445\tbest: 0.9699467 (795)\ttotal: 4m 31s\tremaining: 9h 21m 21s\n",
            "900:\tlearn: 0.9869355\ttest: 0.9701596\tbest: 0.9701596 (900)\ttotal: 5m 6s\tremaining: 9h 21m 43s\n",
            "1000:\tlearn: 0.9877447\ttest: 0.9705216\tbest: 0.9705315 (975)\ttotal: 5m 41s\tremaining: 9h 22m 56s\n",
            "1100:\tlearn: 0.9885238\ttest: 0.9707305\tbest: 0.9707305 (1100)\ttotal: 6m 17s\tremaining: 9h 24m 57s\n",
            "1200:\tlearn: 0.9892963\ttest: 0.9710212\tbest: 0.9710212 (1200)\ttotal: 6m 52s\tremaining: 9h 25m 11s\n",
            "1300:\tlearn: 0.9899989\ttest: 0.9711519\tbest: 0.9711547 (1295)\ttotal: 7m 27s\tremaining: 9h 25m 36s\n",
            "1400:\tlearn: 0.9906607\ttest: 0.9711854\tbest: 0.9711998 (1398)\ttotal: 8m 2s\tremaining: 9h 26m\n",
            "1500:\tlearn: 0.9912598\ttest: 0.9713755\tbest: 0.9713849 (1482)\ttotal: 8m 37s\tremaining: 9h 25m 48s\n",
            "1600:\tlearn: 0.9918174\ttest: 0.9715332\tbest: 0.9715346 (1591)\ttotal: 9m 12s\tremaining: 9h 26m 11s\n",
            "1700:\tlearn: 0.9922761\ttest: 0.9715348\tbest: 0.9715557 (1609)\ttotal: 9m 48s\tremaining: 9h 26m 25s\n",
            "1800:\tlearn: 0.9928042\ttest: 0.9715810\tbest: 0.9716215 (1776)\ttotal: 10m 23s\tremaining: 9h 26m 32s\n",
            "1900:\tlearn: 0.9933077\ttest: 0.9716936\tbest: 0.9717086 (1893)\ttotal: 10m 58s\tremaining: 9h 26m 23s\n",
            "2000:\tlearn: 0.9938083\ttest: 0.9716563\tbest: 0.9717086 (1893)\ttotal: 11m 33s\tremaining: 9h 26m 9s\n",
            "2100:\tlearn: 0.9941852\ttest: 0.9717003\tbest: 0.9717144 (2090)\ttotal: 12m 8s\tremaining: 9h 26m\n",
            "2200:\tlearn: 0.9946348\ttest: 0.9717676\tbest: 0.9718207 (2182)\ttotal: 12m 44s\tremaining: 9h 25m 54s\n",
            "2300:\tlearn: 0.9950805\ttest: 0.9717225\tbest: 0.9718207 (2182)\ttotal: 13m 19s\tremaining: 9h 25m 52s\n",
            "2400:\tlearn: 0.9954774\ttest: 0.9716237\tbest: 0.9718207 (2182)\ttotal: 13m 54s\tremaining: 9h 25m 20s\n",
            "2500:\tlearn: 0.9958096\ttest: 0.9715662\tbest: 0.9718207 (2182)\ttotal: 14m 29s\tremaining: 9h 24m 46s\n",
            "bestTest = 0.9718207121\n",
            "bestIteration = 2182\n",
            "Shrink model to first 2183 iterations.\n",
            "check2\n",
            "0.9718207297740512\n",
            "check3\n",
            "check4\n",
            "check1\n",
            "0:\tlearn: 0.9002567\ttest: 0.8078626\tbest: 0.8078626 (0)\ttotal: 305ms\tremaining: 8h 28m 38s\n",
            "100:\tlearn: 0.9756715\ttest: 0.9359694\tbest: 0.9359694 (100)\ttotal: 32.5s\tremaining: 8h 55m 8s\n",
            "200:\tlearn: 0.9794608\ttest: 0.9410003\tbest: 0.9410003 (200)\ttotal: 1m 5s\tremaining: 8h 58m 55s\n",
            "300:\tlearn: 0.9812983\ttest: 0.9431448\tbest: 0.9431448 (300)\ttotal: 1m 38s\tremaining: 9h 4m 39s\n",
            "400:\tlearn: 0.9826187\ttest: 0.9442044\tbest: 0.9442044 (400)\ttotal: 2m 13s\tremaining: 9h 13m 13s\n",
            "500:\tlearn: 0.9838640\ttest: 0.9447666\tbest: 0.9448076 (496)\ttotal: 2m 48s\tremaining: 9h 18m 16s\n",
            "600:\tlearn: 0.9849113\ttest: 0.9453784\tbest: 0.9453830 (598)\ttotal: 3m 23s\tremaining: 9h 21m 12s\n",
            "700:\tlearn: 0.9859043\ttest: 0.9457890\tbest: 0.9458092 (686)\ttotal: 3m 58s\tremaining: 9h 22m 51s\n",
            "800:\tlearn: 0.9868335\ttest: 0.9462519\tbest: 0.9462519 (800)\ttotal: 4m 33s\tremaining: 9h 24m 58s\n",
            "900:\tlearn: 0.9876499\ttest: 0.9467667\tbest: 0.9467874 (889)\ttotal: 5m 8s\tremaining: 9h 25m 52s\n",
            "1000:\tlearn: 0.9883551\ttest: 0.9470286\tbest: 0.9470547 (990)\ttotal: 5m 43s\tremaining: 9h 26m 25s\n",
            "1100:\tlearn: 0.9890444\ttest: 0.9472659\tbest: 0.9472659 (1100)\ttotal: 6m 18s\tremaining: 9h 27m 16s\n",
            "1200:\tlearn: 0.9896572\ttest: 0.9475281\tbest: 0.9475281 (1200)\ttotal: 6m 53s\tremaining: 9h 26m 37s\n",
            "1300:\tlearn: 0.9902993\ttest: 0.9479043\tbest: 0.9479128 (1294)\ttotal: 7m 28s\tremaining: 9h 26m 46s\n",
            "1400:\tlearn: 0.9908524\ttest: 0.9482343\tbest: 0.9483116 (1369)\ttotal: 8m 3s\tremaining: 9h 27m 9s\n",
            "1500:\tlearn: 0.9914727\ttest: 0.9484178\tbest: 0.9484325 (1497)\ttotal: 8m 39s\tremaining: 9h 27m 39s\n",
            "1600:\tlearn: 0.9920368\ttest: 0.9485132\tbest: 0.9486003 (1528)\ttotal: 9m 13s\tremaining: 9h 27m 28s\n",
            "1700:\tlearn: 0.9925612\ttest: 0.9485818\tbest: 0.9486269 (1696)\ttotal: 9m 49s\tremaining: 9h 27m 33s\n",
            "1800:\tlearn: 0.9930694\ttest: 0.9487776\tbest: 0.9487837 (1799)\ttotal: 10m 24s\tremaining: 9h 27m 35s\n",
            "1900:\tlearn: 0.9934994\ttest: 0.9488643\tbest: 0.9489222 (1889)\ttotal: 10m 59s\tremaining: 9h 27m 15s\n",
            "2000:\tlearn: 0.9938970\ttest: 0.9488901\tbest: 0.9489529 (1975)\ttotal: 11m 34s\tremaining: 9h 27m 6s\n",
            "2100:\tlearn: 0.9942930\ttest: 0.9485984\tbest: 0.9489529 (1975)\ttotal: 12m 10s\tremaining: 9h 27m 3s\n",
            "2200:\tlearn: 0.9946977\ttest: 0.9486921\tbest: 0.9489529 (1975)\ttotal: 12m 45s\tremaining: 9h 26m 52s\n",
            "2300:\tlearn: 0.9950281\ttest: 0.9488395\tbest: 0.9489529 (1975)\ttotal: 13m 20s\tremaining: 9h 26m 20s\n",
            "bestTest = 0.9489529133\n",
            "bestIteration = 1975\n",
            "Shrink model to first 1976 iterations.\n",
            "check2\n",
            "0.9489528099839626\n",
            "check3\n",
            "check4\n",
            "End:0.9594655024534018\n"
          ],
          "name": "stdout"
        }
      ]
    },
    {
      "cell_type": "markdown",
      "metadata": {
        "id": "DKxVx8cPH7aO",
        "colab_type": "text"
      },
      "source": [
        "#### CatBoost Submission"
      ]
    },
    {
      "cell_type": "code",
      "metadata": {
        "id": "6kdnNrq8hRa5",
        "colab_type": "code",
        "colab": {}
      },
      "source": [
        "result = pd.read_csv(f'{folder_path}sample_submission.csv')\n",
        "result['isFraud'] = y_pred\n",
        "result.to_csv(f'{folder_path}catboost.csv',index=False)"
      ],
      "execution_count": 0,
      "outputs": []
    },
    {
      "cell_type": "code",
      "metadata": {
        "id": "76GeywqOhVHA",
        "colab_type": "code",
        "colab": {}
      },
      "source": [
        "df = pd.DataFrame()\n",
        "df['train'] = stack_train\n",
        "df.to_csv(f'{folder_path}catboost_train.csv',index=False)"
      ],
      "execution_count": 0,
      "outputs": []
    },
    {
      "cell_type": "markdown",
      "metadata": {
        "id": "NvT15LN-Dz9g",
        "colab_type": "text"
      },
      "source": [
        "#### Leaderboard Score\n",
        "- **Public Score** : 0.958433 \n",
        "- **Private Score** : 0.933450\n"
      ]
    },
    {
      "cell_type": "markdown",
      "metadata": {
        "id": "nBaXaY-FR1v_",
        "colab_type": "text"
      },
      "source": [
        "## Ensemble \n",
        "Ensemble learning helps improve machine learning results by combining several models. This approach allows the production of better predictive performance compared to a single model. "
      ]
    },
    {
      "cell_type": "code",
      "metadata": {
        "id": "lVwEhcj7Y9AH",
        "colab_type": "code",
        "colab": {}
      },
      "source": [
        "y_train = train_transaction = pd.read_csv(f'{folder_path}train_transaction.csv',usecols = ['isFraud'])\n",
        "y_train = y_train.isFraud"
      ],
      "execution_count": 0,
      "outputs": []
    },
    {
      "cell_type": "code",
      "metadata": {
        "id": "wVJrQvI8JVnk",
        "colab_type": "code",
        "colab": {}
      },
      "source": [
        ""
      ],
      "execution_count": 0,
      "outputs": []
    },
    {
      "cell_type": "code",
      "metadata": {
        "id": "C2BWxEiEYAny",
        "colab_type": "code",
        "colab": {}
      },
      "source": [
        "lgb = pd.read_csv(f'{folder_path}lgb.csv')\n",
        "lgb_train = pd.read_csv(f'{folder_path}lgb_train.csv')\n",
        "xgb = pd.read_csv(f'{folder_path}xgb.csv')\n",
        "xgb_train = pd.read_csv(f'{folder_path}xgb_train.csv')\n",
        "cat = pd.read_csv(f'{folder_path}catboost.csv')\n",
        "cat_train = pd.read_csv(f'{folder_path}catboost_train.csv')"
      ],
      "execution_count": 0,
      "outputs": []
    },
    {
      "cell_type": "markdown",
      "metadata": {
        "id": "1n5xdk9UIeGi",
        "colab_type": "text"
      },
      "source": [
        "### ROC_AUC Score"
      ]
    },
    {
      "cell_type": "code",
      "metadata": {
        "id": "_hkGhnI9YX_W",
        "colab_type": "code",
        "outputId": "39256ea5-e053-4579-a07f-5635b501a139",
        "colab": {
          "base_uri": "https://localhost:8080/",
          "height": 68
        }
      },
      "source": [
        "print(roc_auc_score(y_train.values,lgb_train.train.values))\n",
        "print(roc_auc_score(y_train.values,xgb_train.train.values))\n",
        "print(roc_auc_score(y_train.values,cat_train.train.values))"
      ],
      "execution_count": 0,
      "outputs": [
        {
          "output_type": "stream",
          "text": [
            "0.9540106795593295\n",
            "0.9528556987995687\n",
            "0.9602377429675895\n"
          ],
          "name": "stdout"
        }
      ]
    },
    {
      "cell_type": "markdown",
      "metadata": {
        "id": "2O7IkY-XIPja",
        "colab_type": "text"
      },
      "source": [
        "#### Ensemble Submissiion"
      ]
    },
    {
      "cell_type": "code",
      "metadata": {
        "id": "aQwGor_vYaT5",
        "colab_type": "code",
        "colab": {}
      },
      "source": [
        "sub = lgb.copy()\n",
        "sub.isFraud = 0.8*lgb.isFraud + 0.2*cat.isFraud\n",
        "sub.to_csv(f'{folder_path}ensemble_model.csv',index = None)"
      ],
      "execution_count": 0,
      "outputs": []
    },
    {
      "cell_type": "markdown",
      "metadata": {
        "id": "vOuhTxDjQXrn",
        "colab_type": "text"
      },
      "source": [
        "#### Final Leaderboard Score\n",
        "- **Public Score** : 0.963487 \n",
        "- **Private Score** : 0.941655\n"
      ]
    }
  ]
}